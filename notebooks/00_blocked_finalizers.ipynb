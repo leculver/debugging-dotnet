{
 "cells": [
  {
   "cell_type": "markdown",
   "metadata": {},
   "source": [
    "# Investigating Blocked or Slow Finalizers\n",
    "\n",
    "In this case study, we will walk through how to debug finalizers that are slow, long running, or blocked.  This is sometimes the root cause of memory leaks or excess memory usage in a C# application, so it's important to understand how to debug when this is happening.\n",
    "\n",
    "## Finalizers and the finalizer queue\n",
    "\n",
    "The \"Finalizer Queue\" in the .Net Runtime processes finalizable objects after the GC has identified that the object is no longer reachable.  This is done on a deticated thread called the \"Finalizer Thread\".  There is only ever one finalizer thread processing finalizable objects.  This means that if a process ever creates finalizable objects faster than they can be processed by the FinalizerQueue, your process will eventually run out of memory.  This isn't a \"memory leak\" in the traditional sense, as the .Net Runtime knows where all of that memory is.  It's trying to clean up that memory as quickly as possible, but isn't able to keep up with demand.\n",
    "\n",
    "As a refresher, finalizers are defined in C# code as follows:\n",
    "\n",
    "``` C#\n",
    "class Foo\n",
    "{\n",
    "    ~Foo()\n",
    "    {\n",
    "        // This is a finalizer, it will be executed on a finalizer thread.\n",
    "    }\n",
    "}\n",
    "```\n",
    "\n",
    "## In the real world\n",
    "\n",
    "In this case study, we will be taking a look at a finalizer that is fully blocked.  We've caused a deadlock by taking a monitor and never releasing it.  This is the easiest way to make sure our scenario is easy to debug and understand.  Keep in mind that even just having *slow* code in a finalizer can lead to a problem if too many objects of that type are generated.\n",
    "\n",
    "For example, we have seen issues where finalizers caused excess memory usage in the process due to:\n",
    "\n",
    "1. Blocked threads, such as a finalizer trying to take a lock held by another thread.\n",
    "2. Async operations like a network operation, or file IO that takes a long time to complete.\n",
    "3. Attempting to call into an STA apartment (like the UI thread) from a finalizer.\n",
    "4. Extensive retry code (especially for network operations).\n",
    "5. Or just any kind of long-running operation that is occurring on the finalizer thread.\n",
    "\n",
    "## Practical advice for avoiding these problems\n",
    "\n",
    "Where possible, these kinds of problems can be avoided using the `Dispose()` pattern.  Classes with finalizers should implement `IDisposable` and be used with a `using` statement to clean up any state.  This is the canonical example of a disposable/finalizable class:\n",
    "\n",
    "```C#\n",
    "    public class DisposableResource : IDisposable\n",
    "    {\n",
    "        // Flag to detect redundant calls\n",
    "        private bool _disposed = false;\n",
    "\n",
    "        // Public method to use the resource\n",
    "        public void UseResource()\n",
    "        {\n",
    "            if (_disposed)\n",
    "                throw new ObjectDisposedException(\"DisposableResource\");\n",
    "\n",
    "            Console.WriteLine(\"Using the resource.\");\n",
    "        }\n",
    "\n",
    "        // Implement IDisposable\n",
    "        public void Dispose()\n",
    "        {\n",
    "            Dispose(true);\n",
    "            // Be sure to suppress finalization:\n",
    "            GC.SuppressFinalize(this);\n",
    "        }\n",
    "\n",
    "        // Protected implementation of Dispose pattern\n",
    "        protected virtual void Dispose(bool disposing)\n",
    "        {\n",
    "            if (!_disposed)\n",
    "            {\n",
    "                if (disposing)\n",
    "                {\n",
    "                    // Clean up managed objects.  That means if this class holds other IDiposable objects,\n",
    "                    // call their Dispose() methods here.  Note that \"cleaning up\" does not mean assigning\n",
    "                    // it's fields to null, which I often see.  You can do that if you want, or have a\n",
    "                    // reason to do so, but we mean calling Dispose on other objects in this block.\n",
    "                }\n",
    "\n",
    "                // Clean up native objects and memory.\n",
    "                // For example, calling out to release native resources.\n",
    "\n",
    "                _disposed = true;\n",
    "            }\n",
    "        }\n",
    "\n",
    "        // Finalizer\n",
    "        ~DisposableResource()\n",
    "        {\n",
    "            // Do not change this code. Put cleanup code in Dispose(bool disposing) above.\n",
    "            Dispose(false);\n",
    "        }\n",
    "    }\n",
    "```\n",
    "\n",
    "Implementing this pattern ensures that we efficiently clean up everything when `Dispose` is called on the thread using the object.  This means the finalizer thread will never have to process it, avoiding the problem!\n",
    "\n",
    "Of course, some libraries you use may not properly implement this pattern, sometimes what you are implementing doesn't neatly translate to that pattern, and sometimes it's simply not possible to call `Dispose` in certain circumstances even when we know it would be better to do so.  The rest of this document explains how we go about debugging and investigating something like this goes wrong.\n",
    "\n",
    "## Setting up our enviroment\n",
    "\n",
    "Before we dive into this case study, the following code cells will load up our environment and the target crash dump.  If you are running this yourself, be sure to build the repro with `dotnet build` and set your install path of WinDbg after `#!dbgengPath` below.  Otherwise, skip ahead to the next section."
   ]
  },
  {
   "cell_type": "code",
   "execution_count": 1,
   "metadata": {
    "vscode": {
     "languageId": "polyglot-notebook"
    }
   },
   "outputs": [
    {
     "data": {
      "text/html": [
       "<div><div></div><div></div><div><strong>Installed Packages</strong><ul><li><span>Microsoft.Diagnostics.Runtime, 3.1.512801</span></li></ul></div></div>"
      ]
     },
     "metadata": {},
     "output_type": "display_data"
    }
   ],
   "source": [
    "// Boilerplate to get started: Load up the WinDbgKernel\n",
    "\n",
    "#r \"..\\WinDbgKernel\\bin\\Debug\\net8.0-windows10.0.17763.0\\publish\\WinDbgKernel.dll\"\n",
    "#!import \"..\\WinDbgKernel\\extension.dib\""
   ]
  },
  {
   "cell_type": "code",
   "execution_count": 2,
   "metadata": {
    "dotnet_interactive": {
     "language": "windbg"
    },
    "polyglot_notebook": {
     "kernelName": "windbg"
    },
    "vscode": {
     "languageId": "polyglot-notebook"
    }
   },
   "outputs": [
    {
     "name": "stdout",
     "output_type": "stream",
     "text": [
      "Dump file '..\\BlockedFinalizer\\bin\\release\\net8.0\\BlockedFinalizer.dmp' loaded successfully.\r\n"
     ]
    }
   ],
   "source": [
    "#!dbgengPath d:\\amd64\n",
    "#!loadDump ..\\BlockedFinalizer\\bin\\release\\net8.0\\BlockedFinalizer.dmp\n"
   ]
  },
  {
   "cell_type": "markdown",
   "metadata": {},
   "source": [
    "## Our BlockedFinalizer repro\n",
    "\n",
    "Take a brief look at our [BlockedFinalizer.cs](../BlockedFinalizer/BlockedFinalizer.cs) repro.  We are setting up a synthetic situation where our finalizer will attempt to take a lock that is not available:\n",
    "\n",
    "```C#\n",
    "    ~BlockedFinalizer()\n",
    "    {\n",
    "        ...\n",
    "\n",
    "        // Held by another thread which never releases it.\n",
    "        lock (Sync)\n",
    "        {\n",
    "            Console.WriteLine(\"Never executes, lock(Sync) blocks forever.\");\n",
    "        }\n",
    "    }\n",
    "```\n",
    "\n",
    "This completely halts the finalizer thread, and we will now never make progress in finalizing any object.  Any objects which the GC collects and are determined ready for finalization will now never disappear from the heap.  It also means that all of the objects that are only referenced by these \"dead\" finalizable objects will also not be collected.  For example, in [BlockedFinalizer.cs](../BlockedFinalizer/BlockedFinalizer.cs), the list and objects contained in `BlockedFinalizer._list` cannot ever be swept by the GC.  At least, not until the finalizer for each `BlockedFinalizer` completes (which it never will in this example).\n",
    "\n",
    "Of course, this is a synthetic and simple example as it's very rare to simply deadlock on the Finalizer thread.  However, this is similar enough to many real root causes of failures that we have investigated in the past that it will serve as a good example of how to debug this scenario.\n",
    "\n",
    "## The !FinalizeQueue command\n",
    "\n",
    "SOS offers a `!FinalizeQueue` command to inspect finalizable objects.  The standard `!FinalizeQueue` command will search the entire GC heap for objects that are finalizable.  The base command does *not* list objects that are \"ready\" for finalization, only that these objects will eventually be finalized when they are no longer referenced if `GC.SuppressFinalize` is not called on them.  By default, this command will list out every individual object, so we will just ask for a summary of objects with the `-stat` parameter.\n",
    "\n",
    "As you can see below, we have 999 `BlockedFinalizer` objects that it found to be finalizable.  We allocated 1000, but one of them is already being processed by the finalizer thread, so it's actually no longer a 'finalizable' object by the time we inspect the heap here.  We also see several other objects that are used by the .Net Runtime and its standard library for various purposes.  This is all normal.\n",
    "\n",
    "Remember, again, that this is a mix of both 'live' and 'dead' objects that are currently on the heap.  The 'dead' finalizable objects will only be cleaned up when a GC is performed and locates them, then their finalizer method is called by the finalizer thread.  (There are other caveats here, like resurrection that are beyond the scope of this document.)\n",
    "\n",
    "Here is that full list of all finalizable objects living on the heap:"
   ]
  },
  {
   "cell_type": "code",
   "execution_count": 3,
   "metadata": {
    "dotnet_interactive": {
     "language": "windbg"
    },
    "polyglot_notebook": {
     "kernelName": "windbg"
    },
    "vscode": {
     "languageId": "polyglot-notebook"
    }
   },
   "outputs": [
    {
     "name": "stdout",
     "output_type": "stream",
     "text": [
      "0:000> !FinalizeQueue -stat\n",
      "SyncBlocks to be cleaned up: 0\n",
      "Free-Threaded Interfaces to be released: 0\n",
      "MTA Interfaces to be released: 0\n",
      "STA Interfaces to be released: 0\n",
      "----------------------------------\n",
      "\n",
      "Heap 0\n",
      "generation 0 has 16 objects (18e7206e410->18e7206e490)\n",
      "generation 1 has 0 objects (18e7206e410->18e7206e410)\n",
      "generation 2 has 0 objects (18e7206e410->18e7206e410)\n",
      "Ready for finalization 1,011 objects (18e7206e590->18e72070528)\n",
      "------------------------------\n",
      "Statistics for all finalizable objects (including all objects ready for finalization):\n",
      "Statistics:\n",
      "          MT Count TotalSize Class Name\n",
      "7ff816d35e88     1        40 System.Gen2GcCallback\n",
      "7ff816d377a8     2        48 System.Threading.ThreadInt64PersistentCounter+ThreadLocalNodeFinalizationHelper\n",
      "7ff816bb5710     4        96 System.WeakReference<System.Diagnostics.Tracing.EventSource>\n",
      "7ff816cfc400     3        96 Microsoft.Win32.SafeHandles.SafeWaitHandle\n",
      "7ff816c06970     4       128 Internal.Win32.SafeHandles.SafeRegistryHandle\n",
      "7ff816d35d10     2       144 System.Threading.ThreadPoolWorkQueueThreadLocals\n",
      "7ff816cfd4f8     4       160 System.Threading.LowLevelLock\n",
      "7ff816d35890     1       176 System.Threading.LowLevelLifoSemaphore\n",
      "7ff816bb85e8     1       184 System.Diagnostics.Tracing.NativeRuntimeEventSource\n",
      "7ff816cfc6a0     1       184 System.Diagnostics.Tracing.FrameworkEventSource\n",
      "7ff816bb3d18     8       192 System.WeakReference<System.Diagnostics.Tracing.EventProvider>\n",
      "7ff816cf5808     1       192 System.Threading.Tasks.TplEventSource\n",
      "7ff816bb2220     1       400 System.Diagnostics.Tracing.RuntimeEventSource\n",
      "7ff816b81cb8     7       504 System.Threading.Thread\n",
      "7ff816bb2b40     8       512 System.Diagnostics.Tracing.EventSource+OverrideEventProvider\n",
      "7ff816c7f5e8    12       864 System.Reflection.Emit.DynamicResolver\n",
      "7ff816ccdeb8   999    23,976 BlockedFinalizer.BlockedFinalizer\n",
      "Total 1,059 objects, 27,896 bytes\n"
     ]
    }
   ],
   "source": [
    "* This is a list of all finalizable objects on the heap.\n",
    "* This includes ones that are live and not yet ready to be finalized.\n",
    "!FinalizeQueue -stat"
   ]
  },
  {
   "cell_type": "markdown",
   "metadata": {},
   "source": [
    "## What objects are 'ready' for finalization?\n",
    "\n",
    "We can find what objects are 'ready' for finalization by using `!FinalizeQueue` with the `-allReady` parameter.  This narrows our output down to a handful of objects that *may* be processed by the FinalizerQueue the next time a GC completes and the finalizer thread is woken.\n",
    "\n",
    "Extra nitpicky details:  The caveat here is that we may perform a Gen0 GC (only collecting generation 0 objects and not the whole heap), which means we may not sweep some dead finalizable objects in every single GC.  There may also be implementation details of the GC about when the finalizer thread is woken which we won't attempt to capture here.  For the most part though, `!FinalizerQueue -allReady` tells you objects that should be processed by the finalizer queue in the near future.\n",
    "\n",
    "As you can see, our `BlockedFinalizer` objects are all in this list, along with a few other objects that happened to be finalizable but no longer referenced which should be cleaned up:"
   ]
  },
  {
   "cell_type": "code",
   "execution_count": 4,
   "metadata": {
    "dotnet_interactive": {
     "language": "windbg"
    },
    "polyglot_notebook": {
     "kernelName": "windbg"
    },
    "vscode": {
     "languageId": "polyglot-notebook"
    }
   },
   "outputs": [
    {
     "name": "stdout",
     "output_type": "stream",
     "text": [
      "0:000> !FinalizeQueue -allReady -stat\n",
      "Calculating live objects, this may take a while...\n",
      "\n",
      "Calculating live objects complete: 9,901 objects from 1,078 roots\n",
      "SyncBlocks to be cleaned up: 0\n",
      "Free-Threaded Interfaces to be released: 0\n",
      "MTA Interfaces to be released: 0\n",
      "STA Interfaces to be released: 0\n",
      "----------------------------------\n",
      "\n",
      "Heap 0\n",
      "generation 0 has 16 objects (18e7206e410->18e7206e490)\n",
      "generation 1 has 0 objects (18e7206e410->18e7206e410)\n",
      "generation 2 has 0 objects (18e7206e410->18e7206e410)\n",
      "Ready for finalization 1,011 objects (18e7206e590->18e72070528)\n",
      "------------------------------\n",
      "Statistics for all finalizable objects that are no longer rooted:\n",
      "Statistics:\n",
      "          MT Count TotalSize Class Name\n",
      "7ff816d35e88     1        40 System.Gen2GcCallback\n",
      "7ff816c06970     2        64 Internal.Win32.SafeHandles.SafeRegistryHandle\n",
      "7ff816c7f5e8    12       864 System.Reflection.Emit.DynamicResolver\n",
      "7ff816ccdeb8   999    23,976 BlockedFinalizer.BlockedFinalizer\n",
      "Total 1,014 objects, 24,944 bytes\n"
     ]
    },
    {
     "name": "stderr",
     "output_type": "stream",
     "text": [
      "Caching GC roots, this may take a while.\r\n",
      "Subsequent runs of this command will be faster.\r\n"
     ]
    }
   ],
   "source": [
    "!FinalizeQueue -allReady -stat"
   ]
  },
  {
   "cell_type": "markdown",
   "metadata": {},
   "source": [
    "## Root causing 'excess memory'\n",
    "\n",
    "Having too many objects 'ready' for finalization can lead to excess memory in your program.  The most common symptom here is increased managed or native memory, depending on what objects are building up that can't make it through the finalizer queue.\n",
    "\n",
    "Before we dive further into debugging the issue, it's important to stop here and take stock of this state.  In our contrived example, we have blocked the finalizer queue and in the next sections we will explore how to see that.  However, in many real world scenarios we don't have to have a fully *blocked* finalizer thread in order to see this scenario.  The most common way this issue manifests itself is \"slow\" finalizers.\n",
    "\n",
    "For example, imagine you create 25 finalizable objects per minute which eventually reach the finalizer queue (instead of being disposed of with the `IDisposable` interface/pattern).  Let's say that each of those objects takes 50 milliseconds to do some expensive cleanup operation.  This means that the finalizer thread can clean up ~20 of those objects per second.  Your process will be generating objects faster than they can be cleaned up.  The finalizer thread isn't *blocked* in this scenario, it eventually cleans up each individual object.  What's worse, you might have randomly paused the process to take a crash dump when a *different* object was being processed by the finalizer, which can be misleading.\n",
    "\n",
    "When root causing this kind of issue (whether it's a blocked or 'slow' finalizer), it's important to simply take a look at the number of objects 'ready' for finalization and see if that number is increasing over time.  This typically means taking multiple crash dumps of the same process as your memory continues to grow.  Even if you don't have a series of crash dumps to compare, knowing what objects are ready for finalization and checking if that number seems abnormally large is a good idea to check.\n",
    "\n",
    "## Finding the finalizer thread\n",
    "\n",
    "While it can sometimes be misleading, it's a good idea to check and see what the finalizer thread is doing.  For that, we'll simply use the `!clrthreads` command in SOS, which gives us the managed view of threads in the process.  This command will not list out any thread where we have never run managed code before.  The `DBG` column tells us what the debugger calls that thread.  The `ID` column is the managed thread id (not useful to us in this case), and the `OSID` is what the operating system calls this thread.  Certain special threads, such as the finalizer, have a marker at the end to tell us what it is.  In this case we are looking for the `(Finalizer)` marker.  Below, you will see that thread 6 (OSID e6d8) is our finalizer thread."
   ]
  },
  {
   "cell_type": "code",
   "execution_count": 5,
   "metadata": {
    "dotnet_interactive": {
     "language": "windbg"
    },
    "polyglot_notebook": {
     "kernelName": "windbg"
    },
    "vscode": {
     "languageId": "polyglot-notebook"
    }
   },
   "outputs": [
    {
     "name": "stdout",
     "output_type": "stream",
     "text": [
      "0:000> !clrthreads\n",
      "ThreadCount:      8\n",
      "UnstartedThread:  0\n",
      "BackgroundThread: 6\n",
      "PendingThread:    0\n",
      "DeadThread:       0\n",
      "Hosted Runtime:   no\n",
      "                                                                                                            Lock  \n",
      " DBG   ID     OSID ThreadOBJ           State GC Mode     GC Alloc Context                  Domain           Count Apt Exception\n",
      "   0    1     d574 0000018E70720630    2a020 Preemptive  0000018E74C3ED60:0000018E74C40938 0000018E7075E060 -00001 MTA \n",
      "   6    2     e6d8 0000018E707CBC40  2021220 Preemptive  0000018E74C35A28:0000018E74C36898 0000018E7075E060 -00001 Ukn (Finalizer) \n",
      "   7    3     d104 0000018E7072CD00    2b220 Preemptive  0000000000000000:0000000000000000 0000018E7075E060 -00001 MTA \n",
      "   8    4     6c50 0000018E00417760  202b020 Preemptive  0000000000000000:0000000000000000 0000018E7075E060 -00001 MTA \n",
      "   9    5     3e38 0000018E00464D40  202b220 Preemptive  0000018E74C36EC8:0000018E74C388B8 0000018E7075E060 -00001 MTA \n",
      "  10    6      678 0000018E72147630  102b220 Preemptive  0000018E74C39FA0:0000018E74C3A8D8 0000018E7075E060 -00001 MTA (Threadpool Worker) \n",
      "  11    7     74f4 0000018E72067260  302b220 Preemptive  0000018E74C3AB98:0000018E74C3C8F8 0000018E7075E060 -00001 MTA (Threadpool Worker) \n",
      "  12    8     4ea0 0000018E7206AD40  102b220 Preemptive  0000018E74C3CC28:0000018E74C3E918 0000018E7075E060 -00001 MTA (Threadpool Worker) \n"
     ]
    }
   ],
   "source": [
    "!clrthreads"
   ]
  },
  {
   "cell_type": "markdown",
   "metadata": {},
   "source": [
    "## Inspecting the finalizer thread\n",
    "\n",
    "Now, we can inspect thread 6's callstack.  We swap to thread 6 with `~6s` (or use the OSID with `~~[e6d8]s`).  Then we can use the `k` command in WinDbg to list the callstack.  Here we use `kc20` where `c` gives us a clean (printable) output and `20` limits our frame count to 0x20.  From the output below you can see several things:\n",
    "\n",
    "First, we can see that the finalizer thread is \"awake\" and actively processing objects because `coreclr!FinalizerThread::FinalizeAllObjects` is on the stack.  If the finalizer is \"asleep\", waiting for work to do we would see the `coreclr!FinalizerThread::WaitForFinalizerEvent` frame instead.  Second, it is processing our `BlockedFinalizer` object, and `BlockedFinalizer` is attempting to take a lock with `coreclr!JIT_MonReliableEnter_Portable` and `coreclr!Object::EnterObjMonitor`.  Third, we can see that we are blocking the thread because we are in a wait call `coreclr!CLREventBase::Wait` and similar frames.\n",
    "\n",
    "If you are using SOS from within `dotnet-dump analyze` instead of WinDbg, you could also get this information from the managed portion of the stack with the `!clrstack` SOS command.  This would show you just the managed frames (and some .Net Runtime stack markers that are used to track state).  In this case it would show `BlockedFinalizer.Finalize` and that we are entering a monitor, but not the native frames that explicitly tell us whether the finalizer queue is sleeping or awake.  However, you can mostly infer that from whether any object has its Finalize method on the stack."
   ]
  },
  {
   "cell_type": "code",
   "execution_count": 6,
   "metadata": {
    "dotnet_interactive": {
     "language": "windbg"
    },
    "polyglot_notebook": {
     "kernelName": "windbg"
    },
    "vscode": {
     "languageId": "polyglot-notebook"
    }
   },
   "outputs": [
    {
     "name": "stdout",
     "output_type": "stream",
     "text": [
      "0:000> ~6s\n",
      "ntdll!NtWaitForMultipleObjects+0x14:\n",
      "00007ff9`5a350af4 c3              ret\n",
      "0:006> kc20\n",
      "Call Site\n",
      "ntdll!NtWaitForMultipleObjects\n",
      "KERNELBASE!WaitForMultipleObjectsEx\n",
      "coreclr!Thread::DoAppropriateAptStateWait\n",
      "coreclr!Thread::DoAppropriateWaitWorker\n",
      "coreclr!Thread::DoAppropriateWait\n",
      "coreclr!CLREventBase::WaitEx\n",
      "coreclr!CLREventBase::Wait\n",
      "coreclr!AwareLock::EnterEpilogHelper\n",
      "coreclr!AwareLock::EnterEpilog\n",
      "coreclr!AwareLock::Enter\n",
      "coreclr!SyncBlock::EnterMonitor\n",
      "coreclr!ObjHeader::EnterObjMonitor\n",
      "coreclr!Object::EnterObjMonitor\n",
      "coreclr!JIT_MonEnter_Helper\n",
      "coreclr!JIT_MonReliableEnter_Portable\n",
      "BlockedFinalizer!BlockedFinalizer.BlockedFinalizer.Finalize\n",
      "coreclr!FastCallFinalizeWorker\n",
      "coreclr!MethodTable::CallFinalizer\n",
      "coreclr!CallFinalizer\n",
      "coreclr!FinalizerThread::FinalizeAllObjects\n",
      "coreclr!FinalizerThread::FinalizerThreadWorker\n",
      "coreclr!ManagedThreadBase_DispatchInner\n",
      "coreclr!ManagedThreadBase_DispatchMiddle\n",
      "coreclr!ManagedThreadBase_DispatchOuter\n",
      "coreclr!ManagedThreadBase_NoADTransition\n",
      "coreclr!ManagedThreadBase::FinalizerBase\n",
      "coreclr!FinalizerThread::FinalizerThreadStart\n",
      "kernel32!BaseThreadInitThunk\n",
      "ntdll!RtlUserThreadStart\n"
     ]
    }
   ],
   "source": [
    "* Swap to thread 6 and show the stack.\n",
    "* We can also use the ~~[e6d8]s syntax to switch to the thread using it's OS id.\n",
    "~6s\n",
    "kc20"
   ]
  },
  {
   "cell_type": "markdown",
   "metadata": {},
   "source": [
    "## Who owns the lock?\n",
    "\n",
    "So we now know the finalizer thread is blocked by trying to enter a `Monitor` (this is the underpinning of `lock(obj)`).  We can also use SOS to find what thread is holding the lock with the `!syncblk` command.\n",
    "\n",
    ".Net Runtime implementation details:  We can lock almost any object in .Net, and that information has to be held somewhere.  We keep a table of extra data that can be optionally associated with objects called the \"SyncBlock Table\".  Only objects which *need* extra data associated with them get a SyncBlock table entry allocated to them.  When you use the `lock` keyword (or `Monitor` class), we typically do not allocate a SyncBlock to the object if there is no contention.  Each object has an \"object header\", and part of that header is used for a low overhead spin-lock if there is no contention.  When two or more threads attempt to lock the same object, this spin-lock may be upgraded into a full lock, which is one of the things we track with the `SyncBlock` table.\n",
    "\n",
    "By default, the `!syncblk` command only shows locks which have been upgraded to full SyncBlock table entries that are currently held by a thread.  You can use `!syncblk -all` to see the full table.  As you can see below, the lock is held by thread `6c50`, which is correct.  You can see the callstack of that thread by swapping over to that thread with `~~[6c50]s` followed by `k`.  Or you can execute a command on a thread with the `e` postfix.  In this case, we'll just look at the managed stack on that thread with `!clrstack` by using `~~[6c50]e !clrstack`, showing the managed stack of thread 6c50."
   ]
  },
  {
   "cell_type": "code",
   "execution_count": 8,
   "metadata": {
    "dotnet_interactive": {
     "language": "windbg"
    },
    "polyglot_notebook": {
     "kernelName": "windbg"
    },
    "vscode": {
     "languageId": "polyglot-notebook"
    }
   },
   "outputs": [
    {
     "name": "stdout",
     "output_type": "stream",
     "text": [
      "0:006> !syncblk\n",
      "Index         SyncBlock MonitorHeld Recursion Owning Thread Info          SyncBlock Owner\n",
      "    2 0000018E00462F00            3         1 0000018E00417760 6c50   8   0000018e74447c58 System.Object\n",
      "-----------------------------\n",
      "Total           2\n",
      "CCW             0\n",
      "RCW             0\n",
      "ComClassFactory 0\n",
      "Free            0\n",
      "0:006> ~~[6c50]e !clrstack\n",
      "OS Thread Id: 0x6c50 (8)\n",
      "        Child SP               IP Call Site\n",
      "000000370857F568 00007ff95a350624 [HelperMethodFrame: 000000370857f568] System.Threading.Thread.SleepInternal(Int32)\n",
      "000000370857F660 00007FF875B8E671 System.Threading.Thread.Sleep(Int32)\n",
      "000000370857F690 00007FF816B03858 BlockedFinalizer.Program.ThreadProc() [d:\\git\\debugging-dotnet\\BlockedFinalizer\\BlockedFinalizer.cs @ 85]\n",
      "000000370857F970 00007ff87665b9e3 [DebuggerU2MCatchHandlerFrame: 000000370857f970] \n"
     ]
    }
   ],
   "source": [
    "!syncblk\n",
    "~~[6c50]e !clrstack"
   ]
  },
  {
   "cell_type": "markdown",
   "metadata": {},
   "source": [
    "## Investigating this programmatically\n",
    "\n",
    "You can write code using the [ClrMD library](https://github.com/Microsoft/clrmd) to automatically detect a small subset of this scenario.  ClrMD can only inspect the managed state of the process (it cannot inspect native stack frames or variables), but specifically for the case where a `Monitor` (`lock` keyword) is causing the issue, we can translate those SOS commands into C# code.\n",
    "\n",
    "Note that this is an example of the power and flexibility of being able to use SOS-like commands from a C# program.  However, we have already investigated and solved the blocked finalizer repro we set out to using WinDbg.  We do not need to use ClrMD to investigate these issues.\n",
    "\n",
    "### Getting started with ClrMD\n",
    "\n",
    "We start by loading up ClrMD with the `Microsoft.Diagnostics.Runtime` package, and define a few variables.  Outside of a notebook, we should use the `using` keyword to properly dispose of `DataTarget` and `ClrRuntime`."
   ]
  },
  {
   "cell_type": "code",
   "execution_count": 2,
   "metadata": {
    "vscode": {
     "languageId": "polyglot-notebook"
    }
   },
   "outputs": [
    {
     "data": {
      "text/html": [
       "<div><div></div><div></div><div><strong>Installed Packages</strong><ul><li><span>Microsoft.Diagnostics.Runtime, 3.1.512801</span></li></ul></div></div>"
      ]
     },
     "metadata": {},
     "output_type": "display_data"
    }
   ],
   "source": [
    "#r \"nuget:Microsoft.Diagnostics.Runtime\"\n",
    "using Microsoft.Diagnostics.Runtime;\n",
    "\n",
    "/* using */ DataTarget dt = DataTarget.LoadDump(@\"..\\BlockedFinalizer\\bin\\release\\net8.0\\BlockedFinalizer.dmp\");\n",
    "/* using */ ClrRuntime runtime = dt.ClrVersions[0].CreateRuntime();\n",
    "ClrHeap heap = runtime.Heap;"
   ]
  },
  {
   "cell_type": "markdown",
   "metadata": {},
   "source": [
    "### Find the finalizer thread's stack trace\n",
    "\n",
    "We now need to find the finalizer thread and take a look at its managed stacktrace.  This is similar to using `!clrthreads` to find the finalizer, then `!clrstack` to see its managed stack trace."
   ]
  },
  {
   "cell_type": "code",
   "execution_count": 4,
   "metadata": {
    "vscode": {
     "languageId": "polyglot-notebook"
    }
   },
   "outputs": [
    {
     "name": "stdout",
     "output_type": "stream",
     "text": [
      "Finalizer thread OSID 0xe6d8, stack:\n",
      "    [HelperMethodFrame_1OBJ] (System.Threading.Monitor.ReliableEnter)\n",
      "    BlockedFinalizer.BlockedFinalizer.Finalize()\n",
      "    [DebuggerU2MCatchHandlerFrame]\n"
     ]
    }
   ],
   "source": [
    "// Print the stack of the finalizer thread.\n",
    "\n",
    "ClrThread finalizerThread = runtime.Threads.Where(t => t.IsFinalizer).Single();\n",
    "Console.WriteLine(\"Finalizer thread OSID 0x{0:x}, stack:\", finalizerThread.OSThreadId);\n",
    "\n",
    "foreach (ClrStackFrame frame in finalizerThread.EnumerateStackTrace())\n",
    "    Console.WriteLine($\"    {frame}\");"
   ]
  },
  {
   "cell_type": "markdown",
   "metadata": {},
   "source": [
    "### Are there any Monitor objects on the finalizer thread?\n",
    "\n",
    "If there are any stack frames from the Monitor class `Monitor`, we should see if there is a stack root containing the object that we are attempting to `lock`.  To do this we will inspect the stack roots and what frame the root comes from.\n",
    "\n",
    "You may notice that we do not simply look for arguments and local variables using ClrMD.  ClrMD itself is not a debugging API (that would be `ICorDebug`).  ClrMD is a \".Net runtime inspection\" API.  The distinction matters here because the .Net runtime itself doesn't directly track local variable and argument addresses.  At least, it doesn't track it in a direct way that we can get through ClrMD.  Instead the runtime tracks roots which point to live objects.  In this case, that's sometimes enough to find the object we are looking for."
   ]
  },
  {
   "cell_type": "code",
   "execution_count": 10,
   "metadata": {
    "vscode": {
     "languageId": "polyglot-notebook"
    }
   },
   "outputs": [
    {
     "name": "stdout",
     "output_type": "stream",
     "text": [
      "Found 1 object of interest.\r\n"
     ]
    }
   ],
   "source": [
    "HashSet<ClrObject> objectsOfInterest = [];\n",
    "foreach (ClrStackRoot root in finalizerThread.EnumerateStackRoots())\n",
    "{\n",
    "    if (root.StackFrame.Method?.Type?.Name != \"System.Threading.Monitor\")\n",
    "        continue;\n",
    "        \n",
    "    objectsOfInterest.Add(root.Object);\n",
    "}\n",
    "\n",
    "Console.WriteLine($\"Found {objectsOfInterest.Count} object{(objectsOfInterest.Count == 1 ? \"\" : \"s\")} of interest.\");"
   ]
  },
  {
   "cell_type": "markdown",
   "metadata": {},
   "source": [
    "### Find out which thread is holding these Monitors via the SyncBlock table\n",
    "\n",
    "Our heuristic might have found the wrong object, or the object in question might not have a SyncBlock created for it.  Similar to `!syncblk -all`, we will next loop through all SyncBlocks in the process and see if our objects of interest are on the SyncBlock table.  If so, we'll save those `SyncBlock` objects."
   ]
  },
  {
   "cell_type": "code",
   "execution_count": 11,
   "metadata": {
    "vscode": {
     "languageId": "polyglot-notebook"
    }
   },
   "outputs": [
    {
     "name": "stdout",
     "output_type": "stream",
     "text": [
      "Found potential monitor objects:\n",
      "    018e74447c58 System.Object\n",
      "\n"
     ]
    }
   ],
   "source": [
    "\n",
    "List<SyncBlock> syncBlocksOfInterest = [];\n",
    "if (objectsOfInterest.Count > 0)\n",
    "{\n",
    "    Console.WriteLine(\"Found potential monitor objects:\");\n",
    "    foreach (ClrObject obj in objectsOfInterest)\n",
    "        Console.WriteLine($\"    {obj.Address:x12} {obj.Type?.Name}\");\n",
    "\n",
    "    Console.WriteLine();\n",
    "\n",
    "    foreach (SyncBlock syncBlock in heap.EnumerateSyncBlocks())\n",
    "    {\n",
    "        // SyncBlock holds only the object's address.  We need to convert it into a ClrObject to use it here.\n",
    "        ClrObject obj = heap.GetObject(syncBlock.Object);\n",
    "        if (objectsOfInterest.Contains(obj))\n",
    "            syncBlocksOfInterest.Add(syncBlock);\n",
    "    }\n",
    "}"
   ]
  },
  {
   "cell_type": "markdown",
   "metadata": {},
   "source": [
    "### Finding the thread holding the lock\n",
    "\n",
    "We now have a list of SyncBlocks matching objects rooted by `Monitor` frames.  We'll now go through each SyncBlock and see if the monitor is held, and if so by which thread."
   ]
  },
  {
   "cell_type": "code",
   "execution_count": 13,
   "metadata": {
    "vscode": {
     "languageId": "polyglot-notebook"
    }
   },
   "outputs": [
    {
     "name": "stdout",
     "output_type": "stream",
     "text": [
      "Found the following blocked Monitors on the Finalizer thread:\n",
      "    018e74447c58 System.Object blocked by thread 0x6c50\n"
     ]
    }
   ],
   "source": [
    "List<(ClrObject Object, ClrThread Thread)> blockedObjects = [];\n",
    "if (syncBlocksOfInterest.Count > 0)\n",
    "{\n",
    "    foreach (SyncBlock syncBlock in syncBlocksOfInterest)\n",
    "    {\n",
    "        if (syncBlock.IsMonitorHeld && syncBlock.HoldingThreadAddress != 0)\n",
    "        {\n",
    "            ClrThread holdingThread = runtime.Threads.FirstOrDefault(t => t.Address == syncBlock.HoldingThreadAddress);\n",
    "            if (holdingThread != null)\n",
    "                blockedObjects.Add((heap.GetObject(syncBlock.Object), holdingThread));\n",
    "        }\n",
    "    }\n",
    "}\n",
    "\n",
    "if (blockedObjects.Count > 0)\n",
    "{\n",
    "    Console.WriteLine(\"Found the following blocked Monitors on the Finalizer thread:\");\n",
    "    foreach ((ClrObject Object, ClrThread Thread) in blockedObjects)\n",
    "        Console.WriteLine($\"    {Object.Address:x12} {Object.Type?.Name} blocked by thread 0x{Thread.OSThreadId:x}\");\n",
    "}\n",
    "else\n",
    "{\n",
    "    Console.WriteLine(\"Did not find a blocked Monitor object on the Finalizer thread.\");\n",
    "}\n"
   ]
  },
  {
   "cell_type": "markdown",
   "metadata": {},
   "source": [
    "## Wrap-up\n",
    "\n",
    "One of the first steps in investigating higher than expected memory usage is checking if the Finalizer queue is blocked, and if there's more than expected finalizable objects.  This is because finalizers are one of the ways that native resources are released and given back to the operating system.\n",
    "\n",
    "You can quickly check whether the finalizer queue is blocked by finding the finalizer thread with `!clrthreads` then using your debugger to see the native (or managed) stack trace of that thread.  You can see if there's an abnormally large amount of finalizable objects using `!fq -stat`, and whether there's an abnormally large amount of finalizable objects that the GC has already decided are unreferenced and ready for finalization using `!fq -allReady -stat`.\n",
    "\n",
    "This works better when you have a baseline to compare against.  If you are investigating a memory leak, usually that means taking one crash dump early in the process's lifetime (before memory grows abnormally large) and one after memory has grown.  Otherwise, you will need to have a pretty good idea about the \"normal\" state of finalizable objects in your application, which is an intuition you can build by using the `!fq` command regularly."
   ]
  }
 ],
 "metadata": {
  "kernelspec": {
   "display_name": ".NET (C#)",
   "language": "C#",
   "name": ".net-csharp"
  },
  "language_info": {
   "name": "python"
  },
  "polyglot_notebook": {
   "kernelInfo": {
    "defaultKernelName": "csharp",
    "items": [
     {
      "aliases": [],
      "name": "csharp"
     },
     {
      "aliases": [],
      "name": "windbg"
     }
    ]
   }
  }
 },
 "nbformat": 4,
 "nbformat_minor": 2
}
