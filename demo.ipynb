{
 "cells": [
  {
   "cell_type": "markdown",
   "metadata": {},
   "source": []
  },
  {
   "cell_type": "code",
   "execution_count": 1,
   "metadata": {
    "dotnet_interactive": {
     "language": "csharp"
    },
    "polyglot_notebook": {
     "kernelName": "csharp"
    },
    "vscode": {
     "languageId": "polyglot-notebook"
    }
   },
   "outputs": [],
   "source": [
    "#r \".\\WinDbgKernel\\bin\\Debug\\net8.0-windows10.0.17763.0\\publish\\WinDbgKernel.dll\"\n",
    "#!import \".\\WinDbgKernel\\extension.dib\""
   ]
  },
  {
   "cell_type": "code",
   "execution_count": 2,
   "metadata": {
    "dotnet_interactive": {
     "language": "windbg"
    },
    "polyglot_notebook": {
     "kernelName": "windbg"
    },
    "vscode": {
     "languageId": "polyglot-notebook"
    }
   },
   "outputs": [
    {
     "name": "stdout",
     "output_type": "stream",
     "text": [
      "Dump file 'd:\\work\\crash.dmp' loaded successfully.\n",
      "0:000> .lastevent\n",
      "Last event: 7298.5178: Break instruction exception - code 80000003 (first/second chance not available)\n",
      "  debugger time: Thu Jun 27 12:50:11.938 2024 (UTC - 7:00)\n",
      "0:000> kn\n",
      " # Child-SP          RetAddr               Call Site\n",
      "00 000000f1`e2afebc8 00007ffa`5eef183e     win32u!ZwUserMsgWaitForMultipleObjectsEx+0x14 [onecoreuap\\windows\\core\\umode\\moderncore\\objfre\\amd64\\usrstubs.asm @ 9901]\n",
      "01 000000f1`e2afebd0 00007ffa`2acef16d     VsLog!VSResponsiveness::Detours::DetourMsgWaitForMultipleObjectsEx+0x6e [D:\\dbs\\el\\ddvsm\\src\\vscommon\\TestTools\\VsLog\\ResponseTime\\VSResponsiveness.cpp @ 1129]\n",
      "02 (Inline Function) --------`--------     msenv!MainMessageLoop::BlockingWait+0x27 [D:\\dbs\\el\\ddvsm\\src\\env\\msenv\\core\\main.cpp @ 2373]\n",
      "03 000000f1`e2afec10 00007ffa`2ad77443     msenv!CMsoCMHandler::EnvironmentMsgLoop+0x209 [D:\\dbs\\el\\ddvsm\\src\\env\\msenv\\core\\msocm.cpp @ 503]\n",
      "04 000000f1`e2afeca0 00007ffa`2ad77751     msenv!CMsoCMHandler::FPushMessageLoop+0x73 [D:\\dbs\\el\\ddvsm\\src\\env\\msenv\\core\\msocm.cpp @ 366]\n",
      "05 000000f1`e2afed10 00007ffa`2ad7761f     msenv!SCM::FPushMessageLoop+0x105 [D:\\dbs\\el\\ddvsm\\src\\env\\msenv\\mso\\core\\cistdmgr.cpp @ 2284]\n",
      "06 000000f1`e2afeda0 00007ffa`2ad775b9     msenv!SCM_MsoCompMgr::FPushMessageLoop+0x3f [D:\\dbs\\el\\ddvsm\\src\\env\\msenv\\mso\\core\\cistdmgr.cpp @ 3020]\n",
      "07 000000f1`e2afedd0 00007ffa`2ad772fd     msenv!CMsoComponent::PushMsgLoop+0x3d [D:\\dbs\\el\\ddvsm\\src\\env\\msenv\\core\\msocm.cpp @ 714]\n",
      "08 000000f1`e2afee00 00007ffa`2ae6375c     msenv!VStudioMainLogged+0x881 [D:\\dbs\\el\\ddvsm\\src\\env\\msenv\\core\\main.cpp @ 1537]\n",
      "09 000000f1`e2afef60 00007ff7`562ed594     msenv!VStudioMain+0xdc [D:\\dbs\\el\\ddvsm\\src\\env\\msenv\\core\\main.cpp @ 1928]\n",
      "0a 000000f1`e2afefb0 00007ff7`562e862f     devenv!util_CallVsMain+0x5c [D:\\dbs\\el\\ddvsm\\src\\appid\\lib\\utils.cpp @ 1172]\n",
      "0b 000000f1`e2afefe0 00007ff7`562e30c8     devenv!CDevEnvAppId::Run+0x1e03 [Q:\\src\\appid\\devenv\\stub\\devenv.cpp @ 1027]\n",
      "0c 000000f1`e2aff6e0 00007ff7`563326e2     devenv!WinMain+0xd0 [Q:\\src\\appid\\devenv\\stub\\winmain.cpp @ 70]\n",
      "0d (Inline Function) --------`--------     devenv!invoke_main+0x21 [D:\\a\\_work\\1\\s\\src\\vctools\\crt\\vcstartup\\src\\startup\\exe_common.inl @ 102]\n",
      "0e 000000f1`e2aff750 00007ffa`cce7257d     devenv!__scrt_common_main_seh+0x106 [D:\\a\\_work\\1\\s\\src\\vctools\\crt\\vcstartup\\src\\startup\\exe_common.inl @ 288]\n",
      "0f 000000f1`e2aff790 00007ffa`cdf8aa58     kernel32!BaseThreadInitThunk+0x1d [clientcore\\base\\win32\\client\\thread.c @ 75]\n",
      "10 000000f1`e2aff7c0 00000000`00000000     ntdll!RtlUserThreadStart+0x28 [minkernel\\ntdll\\rtlstrt.c @ 1166]\n"
     ]
    }
   ],
   "source": [
    "* Comments in WinDbg start with an asterisk\n",
    "\n",
    "#!verboseSymbols false\n",
    "#!dbgengPath d:\\amd64\n",
    "#!sympath SRV*d:\\symbols*http://symweb.corp.microsoft.com\n",
    "#!loadDump \"d:\\work\\crash.dmp\"\n",
    "\n",
    ".lastevent\n",
    "kn"
   ]
  },
  {
   "cell_type": "code",
   "execution_count": 3,
   "metadata": {
    "dotnet_interactive": {
     "language": "windbg"
    },
    "polyglot_notebook": {
     "kernelName": "windbg"
    },
    "vscode": {
     "languageId": "polyglot-notebook"
    }
   },
   "outputs": [
    {
     "name": "stdout",
     "output_type": "stream",
     "text": [
      "0:000> .chain\n",
      "Extension DLL search Path:\n",
      "    d:\\amd64\\WINXP;d:\\amd64\\winext;d:\\amd64\\winext\\arcade;d:\\amd64\\pri;d:\\amd64;C:\\Users\\leculver\\AppData\\Local\\Dbg\\EngineExtensions;d:\\amd64;C:\\windows\\system32;C:\\windows;C:\\windows\\System32\\Wbem;C:\\windows\\System32\\WindowsPowerShell\\v1.0\\;C:\\windows\\System32\\OpenSSH\\;C:\\Program Files\\Microsoft SQL Server\\150\\Tools\\Binn\\;C:\\Program Files\\CMake\\bin;C:\\WINDOWS\\system32;C:\\WINDOWS;C:\\WINDOWS\\System32\\Wbem;C:\\WINDOWS\\System32\\WindowsPowerShell\\v1.0\\;C:\\WINDOWS\\System32\\OpenSSH\\;C:\\Program Files\\dotnet\\;C:\\Program Files\\Git\\cmd;C:\\Users\\leculver\\AppData\\Local\\Programs\\Python\\Python311\\Scripts\\;C:\\Users\\leculver\\AppData\\Local\\Programs\\Python\\Python311\\;C:\\Users\\leculver\\AppData\\Local\\Microsoft\\WindowsApps;C:\\Users\\leculver\\AppData\\Local\\Programs\\Microsoft VS Code\\bin;C:\\ProgramData\\leculver\\GitHubDesktop\\bin;D:\\tools;C:\\Users\\leculver\\.dotnet\\tools\n",
      "Extension DLL chain:\n",
      "    d:\\my\\sym\\SO\\SOS_AMD64_AMD64_4.8.9181.00.dll\\64B854789a4000\\SOS_AMD64_AMD64_4.8.9181.00.dll: image 4.8.9181.0, API 1.0.0, built Wed Jul 19 14:15:29 2023\n",
      "        [path: d:\\my\\sym\\SO\\SOS_AMD64_AMD64_4.8.9181.00.dll\\64B854789a4000\\SOS_AMD64_AMD64_4.8.9181.00.dll]\n",
      "    CLRComposition: image 10.0.27596.1000, API 0.0.0, \n",
      "        [path: d:\\amd64\\winext\\CLRComposition.dll]\n",
      "    MachOBinComposition: image 10.0.27596.1000, API 0.0.0, \n",
      "        [path: d:\\amd64\\winext\\MachOBinComposition.dll]\n",
      "    ELFBinComposition: image 10.0.27596.1000, API 0.0.0, \n",
      "        [path: d:\\amd64\\winext\\ELFBinComposition.dll]\n",
      "    dbghelp: image 10.0.27596.1000, API 10.0.6, \n",
      "        [path: d:\\amd64\\dbghelp.dll]\n",
      "    exts: image 10.0.27596.1000, API 1.0.0, \n",
      "        [path: d:\\amd64\\WINXP\\exts.dll]\n",
      "    uext: image 10.0.27596.1000, API 1.0.0, \n",
      "        [path: d:\\amd64\\winext\\uext.dll]\n",
      "    ntsdexts: image 10.0.27596.1000, API 1.0.0, \n",
      "        [path: d:\\amd64\\WINXP\\ntsdexts.dll]\n",
      "0:000> !threads\n",
      "ThreadCount:      151\n",
      "UnstartedThread:  0\n",
      "BackgroundThread: 63\n",
      "PendingThread:    0\n",
      "DeadThread:       88\n",
      "Hosted Runtime:   no\n",
      "                                                                                                        Lock  \n",
      "       ID OSID ThreadOBJ           State GC Mode     GC Alloc Context                  Domain           Count Apt Exception\n",
      "   0    1 5178 00000233d9bbc510    24220 Preemptive  00000233E5CC0278:00000233E5CC20D8 00000233dc127410 0     STA \n",
      "   7    2 1224 00000233dc0ae0b0    2b220 Preemptive  00000233E12F1EB0:00000233E12F31C8 00000233dc127410 0     MTA (Finalizer) \n",
      "   8    3 60a0 00000233dc0ac940    21220 Preemptive  0000000000000000:0000000000000000 00000233dc127410 0     Ukn \n",
      "  10    4 45f4 00000233dc0af050  102a220 Preemptive  0000000000000000:0000000000000000 00000233dc127410 0     MTA (Threadpool Worker) \n",
      "XXXX    5    0 00000233dc0ad110  1039820 Preemptive  0000000000000000:0000000000000000 00000233dc127410 0     Ukn (Threadpool Worker) \n",
      "XXXX    6    0 00000233dc0ad8e0  1039820 Preemptive  0000000000000000:0000000000000000 00000233dc127410 0     Ukn (Threadpool Worker) \n",
      "XXXX    8    0 00000233dc0af820  1039820 Preemptive  0000000000000000:0000000000000000 00000233dc127410 0     Ukn (Threadpool Worker) \n",
      "  11    9 7378 00000233dc0afff0  1029220 Preemptive  00000233E5BF0970:00000233E5BF20D8 00000233dc127410 0     MTA (Threadpool Worker) \n",
      "XXXX   10    0 00000233dc495eb0  1039820 Preemptive  0000000000000000:0000000000000000 00000233dc127410 0     Ukn (Threadpool Worker) \n",
      "XXXX   11    0 00000233dc4985c0  1039820 Preemptive  0000000000000000:0000000000000000 00000233dc127410 0     Ukn (Threadpool Worker) \n",
      "  12   12 5978 00000233dc492030  1029220 Preemptive  0000023427202F98:0000023427202FD8 00000233dc127410 0     MTA (Threadpool Worker) \n",
      "  13   13 3c10 00000233dc494740  1029220 Preemptive  000002342723F5E0:0000023427240FD8 00000233dc127410 0     MTA (Threadpool Worker) \n",
      "XXXX   14    0 00000233dc4956e0  1039820 Preemptive  0000000000000000:0000000000000000 00000233dc127410 0     Ukn (Threadpool Worker) \n",
      "  14   16 65b8 00000233dc497df0  1029220 Preemptive  00000233E5C65268:00000233E5C660D8 00000233dc127410 0     MTA (Threadpool Worker) \n",
      "  15   17 4510 00000233dc491090  1020220 Preemptive  0000000000000000:0000000000000000 00000233dc127410 0     Ukn (Threadpool Worker) \n",
      "  17   18 7640 00000233dc4f0360  202b220 Preemptive  00000233E5CB2190:00000233E5CB40D8 00000233dc127410 1     MTA \n",
      "  18   19 8528 00000233dc4edc50  1020220 Preemptive  0000000000000000:0000000000000000 00000233dc127410 0     Ukn (Threadpool Worker) \n",
      "  19   20 65dc 00000233dc4ec4e0  1020220 Preemptive  0000000000000000:0000000000000000 00000233dc127410 0     Ukn (Threadpool Worker) \n",
      "XXXX   21    0 00000233dc4eb540  8039820 Preemptive  0000000000000000:0000000000000000 00000233dc127410 0     Ukn (Threadpool Completion Port) \n",
      "XXXX   22    0 00000233dc4ef3c0  8039820 Preemptive  0000000000000000:0000000000000000 00000233dc127410 0     Ukn (Threadpool Completion Port) \n",
      "  20   23 8484 00000233dc5d5130  1020220 Preemptive  0000000000000000:0000000000000000 00000233dc127410 0     Ukn (Threadpool Worker) \n",
      "XXXX   24    0 00000233dc591660  8039820 Preemptive  0000000000000000:0000000000000000 00000233dc127410 0     Ukn (Threadpool Completion Port) \n",
      "XXXX   25    0 00000233dc585e90  8039820 Preemptive  0000000000000000:0000000000000000 00000233dc127410 0     Ukn (Threadpool Completion Port) \n",
      "  21   26 7aa0 00000233dc4eebf0  1020220 Preemptive  0000000000000000:0000000000000000 00000233dc127410 0     Ukn (Threadpool Worker) \n",
      "XXXX   29    0 00000233dc4eccb0  1039820 Preemptive  0000000000000000:0000000000000000 00000233dc127410 0     Ukn (Threadpool Worker) \n",
      "  25   28 83f8 00000233dc6b1bb0  1029220 Preemptive  00000233E5C6E490:00000233E5C700D8 00000233dc127410 0     MTA (Threadpool Worker) \n",
      "XXXX   27    0 0000023382488cc0  1039820 Preemptive  0000000000000000:0000000000000000 00000233dc127410 0     Ukn (Threadpool Worker) \n",
      "  26   15 5cc4 000002338248b8c0  1029220 Preemptive  00000233E5C8E198:00000233E5C900D8 00000233dc127410 0     MTA (Threadpool Worker) \n",
      "XXXX    7    0 000002338248c930  1039820 Preemptive  0000000000000000:0000000000000000 00000233dc127410 0     Ukn (Threadpool Worker) \n",
      "  28   31 54ac 00000233dc688650  1029220 Preemptive  00000233E5BB66A8:00000233E5BB80D8 00000233dc127410 0     MTA (Threadpool Worker) \n",
      "XXXX   32    0 00000233dc6b2b50  1039820 Preemptive  0000000000000000:0000000000000000 00000233dc127410 0     Ukn (Threadpool Worker) \n",
      "XXXX   33    0 00000233dc6876b0  1039820 Preemptive  0000000000000000:0000000000000000 00000233dc127410 0     Ukn (Threadpool Worker) \n",
      "XXXX   34    0 000002338247a7e0  1039820 Preemptive  0000000000000000:0000000000000000 00000233dc127410 0     Ukn (Threadpool Worker) \n",
      "XXXX   35    0 0000023382aef150  1039820 Preemptive  0000000000000000:0000000000000000 00000233dc127410 0     Ukn (Threadpool Worker) \n",
      "  29   37 32ec 00000233dc60b490  202b220 Preemptive  0000000000000000:0000000000000000 00000233dc127410 0     MTA \n",
      "  30   38 5008 00000233dc60cc00  202b220 Preemptive  00000234271C4508:00000234271C4FD8 00000233dc127410 0     MTA \n",
      "  32   45  31c 000002338248e0a0  1020220 Preemptive  0000000000000000:0000000000000000 00000233dc127410 0     Ukn (Threadpool Worker) \n",
      "  34   44 5958 00000233824b3720  202b220 Preemptive  00000233E5C7D818:00000233E5C7E0D8 00000233dc127410 0     MTA \n",
      "  35   43  97c 000002338abd5450    27220 Preemptive  00000233E512E9C0:00000233E512FD60 00000233dc127410 0     STA \n",
      "  38   41 1784 00000233dc4e9600  1029220 Preemptive  00000233E5C58320:00000233E5C5A0D8 00000233dc127410 0     MTA (Threadpool Worker) \n",
      "  37   40 398c 000002338c51e220  1029220 Preemptive  00000233E5C83ED8:00000233E5C840D8 00000233dc127410 0     MTA (Threadpool Worker) \n",
      "  39   39 8840 00000233dc4ebd10  1029220 Preemptive  00000233E5CAAC30:00000233E5CAC0D8 00000233dc127410 0     MTA (Threadpool Worker) \n",
      "  36   30 2298 00000233dc5d5900  1029220 Preemptive  00000233E5C78B38:00000233E5C7A0D8 00000233dc127410 0     MTA (Threadpool Worker) \n",
      "  40   36 2888 000002338abd2570  202b220 Preemptive  0000000000000000:0000000000000000 00000233dc127410 0     MTA \n",
      "  41   46 8fdc 000002338ae089e0  202b220 Preemptive  0000000000000000:0000000000000000 00000233dc127410 0     MTA \n",
      "XXXX   47    0 0000023382479840  8039820 Preemptive  0000000000000000:0000000000000000 00000233dc127410 0     Ukn (Threadpool Completion Port) \n",
      "XXXX   49    0 000002338c8233c0  8039820 Preemptive  0000000000000000:0000000000000000 00000233dc127410 0     Ukn (Threadpool Completion Port) \n",
      "XXXX   50    0 00000233dc584ef0  8039820 Preemptive  0000000000000000:0000000000000000 00000233dc127410 0     Ukn (Threadpool Completion Port) \n",
      "XXXX   51    0 000002338c82bc40  8039820 Preemptive  0000000000000000:0000000000000000 00000233dc127410 0     Ukn (Threadpool Completion Port) \n",
      "XXXX   52    0 000002338c840c10  8039820 Preemptive  0000000000000000:0000000000000000 00000233dc127410 0     Ukn (Threadpool Completion Port) \n",
      "XXXX   53    0 000002338c824b30  8039820 Preemptive  0000000000000000:0000000000000000 00000233dc127410 0     Ukn (Threadpool Completion Port) \n",
      "XXXX   54    0 000002338c82aca0  8039820 Preemptive  0000000000000000:0000000000000000 00000233dc127410 0     Ukn (Threadpool Completion Port) \n",
      "XXXX   55    0 000002338c840440  8039820 Preemptive  0000000000000000:0000000000000000 00000233dc127410 0     Ukn (Threadpool Completion Port) \n",
      "XXXX   57    0 000002338c74b050  8039820 Preemptive  0000000000000000:0000000000000000 00000233dc127410 0     Ukn (Threadpool Completion Port) \n",
      "XXXX   59    0 000002338ae0a920  8039820 Preemptive  0000000000000000:0000000000000000 00000233dc127410 0     Ukn (Threadpool Completion Port) \n",
      "XXXX   60    0 0000023382b1cb70  8039820 Preemptive  0000000000000000:0000000000000000 00000233dc127410 0     Ukn (Threadpool Completion Port) \n",
      "XXXX   61    0 000002338c856c40  8039820 Preemptive  0000000000000000:0000000000000000 00000233dc127410 0     Ukn (Threadpool Completion Port) \n",
      "XXXX   62    0 0000023382ae3a80  8039820 Preemptive  0000000000000000:0000000000000000 00000233dc127410 0     Ukn (Threadpool Completion Port) \n",
      "  44   63 1550 000002338ae091b0  1029220 Preemptive  00000233E5C4D668:00000233E5C4E0D8 00000233dc127410 0     MTA (Threadpool Worker) \n",
      "  46   64 5d24 0000023382b1d340  1029220 Preemptive  00000233E5BF9D90:00000233E5BFA0D8 00000233dc127410 0     MTA (Threadpool Worker) \n",
      "XXXX   65    0 000002338cb03c50  1039820 Preemptive  0000000000000000:0000000000000000 00000233dc127410 0     Ukn (Threadpool Worker) \n",
      "  43   66 4178 000002338c51e9f0  1029220 Preemptive  0000023424C6E868:0000023424C6FA38 00000233dc127410 0     MTA (Threadpool Worker) \n",
      "  45   67 4368 000002338c51c2e0  1029220 Preemptive  00000233E5CB6C40:00000233E5CB80D8 00000233dc127410 0     MTA (Threadpool Worker) \n",
      "  42   68 50f4 0000023389fd5760  1029220 Preemptive  00000233E5C457C8:00000233E5C460D8 00000233dc127410 0     MTA (Threadpool Worker) \n",
      "XXXX   69    0 000002338abd3ce0  1039820 Preemptive  0000000000000000:0000000000000000 00000233dc127410 0     Ukn (Threadpool Worker) \n",
      "XXXX   71    0 000002338cb02cb0  1039820 Preemptive  0000000000000000:0000000000000000 00000233dc127410 0     Ukn (Threadpool Worker) \n",
      "  48   72 3a84 000002338ae0a150  1029220 Preemptive  0000023425F1CF08:0000023425F1CF98 00000233dc127410 0     MTA (Threadpool Worker) \n",
      "  47   70  ac0 000002338c854d00  1029220 Preemptive  0000023427188560:0000023427189190 00000233dc127410 0     MTA (Threadpool Worker) \n",
      "XXXX   73    0 000002338c842380  1039820 Preemptive  0000000000000000:0000000000000000 00000233dc127410 0     Ukn (Threadpool Worker) \n",
      "XXXX   74    0 000002338cb08470  1039820 Preemptive  0000000000000000:0000000000000000 00000233dc127410 0     Ukn (Threadpool Worker) \n",
      "  49   75 85ec 0000023382b1db10  1029220 Preemptive  00000233E5CBF488:00000233E5CC00D8 00000233dc127410 0     MTA (Threadpool Worker) \n",
      "  50   76 62cc 0000023389fd5f30  1029220 Preemptive  00000233E5C867D8:00000233E5C880D8 00000233dc127410 0     MTA (Threadpool Worker) \n",
      "XXXX   77    0 000002338c533d50  1039820 Preemptive  0000000000000000:0000000000000000 00000233dc127410 0     Ukn (Threadpool Worker) \n",
      "XXXX   78    0 000002338cb005a0  1039820 Preemptive  0000000000000000:0000000000000000 00000233dc127410 0     Ukn (Threadpool Worker) \n",
      "  51   81 8360 000002338256bc70    21220 Preemptive  0000000000000000:0000000000000000 00000233dc127410 0     Ukn \n",
      "  52   82 415c 000002338256e380    21220 Preemptive  0000000000000000:0000000000000000 00000233dc127410 0     Ukn \n",
      "  53   79 47a4 000002338c51b340  1020220 Preemptive  0000000000000000:0000000000000000 00000233dc127410 0     Ukn (Threadpool Worker) \n",
      "XXXX   85    0 000002338c8bcac0    39820 Preemptive  0000000000000000:0000000000000000 00000233dc127410 0     Ukn \n",
      "  31   88 7e20 000002338cb39ec0    20220 Preemptive  0000000000000000:0000000000000000 00000233dc127410 0     Ukn \n",
      "XXXX   99    0 000002338c825300    39820 Preemptive  0000000000000000:0000000000000000 00000233dc127410 0     Ukn \n",
      "  55  105 3770 000002338c924a10    20220 Preemptive  0000000000000000:0000000000000000 00000233dc127410 0     MTA \n",
      "   2  109 7740 000002338f18f270    20220 Preemptive  000002342703D938:000002342703E248 00000233dc127410 0     Ukn \n",
      "XXXX  108    0 000002338c83ecd0    39820 Preemptive  0000000000000000:0000000000000000 00000233dc127410 0     Ukn \n",
      "XXXX  107    0 00000233dc5c8b00    39820 Preemptive  0000000000000000:0000000000000000 00000233dc127410 0     Ukn \n",
      "XXXX  106    0 000002338c534cf0    39820 Preemptive  0000000000000000:0000000000000000 00000233dc127410 0     Ukn \n",
      "XXXX  104    0 000002338ef925e0    39820 Preemptive  0000000000000000:0000000000000000 00000233dc127410 0     Ukn \n",
      "XXXX  103    0 000002338abd44b0    39820 Preemptive  0000000000000000:0000000000000000 00000233dc127410 0     Ukn \n",
      "XXXX   58    0 000002338cb21e90  8039820 Preemptive  0000000000000000:0000000000000000 00000233dc127410 0     Ukn (Threadpool Completion Port) \n",
      "XXXX   56    0 000002338f192150  8039820 Preemptive  0000000000000000:0000000000000000 00000233dc127410 0     Ukn (Threadpool Completion Port) \n",
      "XXXX   48    0 000002338c5354c0  8039820 Preemptive  0000000000000000:0000000000000000 00000233dc127410 0     Ukn (Threadpool Completion Port) \n",
      "XXXX  102    0 000002338c82e350  8039820 Preemptive  0000000000000000:0000000000000000 00000233dc127410 0     Ukn (Threadpool Completion Port) \n",
      "XXXX  101    0 000002338cb23600  8039820 Preemptive  0000000000000000:0000000000000000 00000233dc127410 0     Ukn (Threadpool Completion Port) \n",
      "XXXX  100    0 00000233dc5c8330  8039820 Preemptive  0000000000000000:0000000000000000 00000233dc127410 0     Ukn (Threadpool Completion Port) \n",
      "XXXX   98    0 000002338cb22e30  8039820 Preemptive  0000000000000000:0000000000000000 00000233dc127410 0     Ukn (Threadpool Completion Port) \n",
      "XXXX   97    0 000002338cb06d00  8039820 Preemptive  0000000000000000:0000000000000000 00000233dc127410 0     Ukn (Threadpool Completion Port) \n",
      "XXXX   94    0 000002338c51bb10  8039820 Preemptive  0000000000000000:0000000000000000 00000233dc127410 0     Ukn (Threadpool Completion Port) \n",
      "XXXX   93    0 000002338ae07a40  8039820 Preemptive  0000000000000000:0000000000000000 00000233dc127410 0     Ukn (Threadpool Completion Port) \n",
      "XXXX   96    0 000002338f18fa40  8039820 Preemptive  0000000000000000:0000000000000000 00000233dc127410 0     Ukn (Threadpool Completion Port) \n",
      "XXXX   90    0 000002338c74c7c0  8039820 Preemptive  0000000000000000:0000000000000000 00000233dc127410 0     Ukn (Threadpool Completion Port) \n",
      "XXXX   95    0 000002338ae09980  8039820 Preemptive  0000000000000000:0000000000000000 00000233dc127410 0     Ukn (Threadpool Completion Port) \n",
      "XXXX   42    0 000002338cb1ff50  8039820 Preemptive  0000000000000000:0000000000000000 00000233dc127410 0     Ukn (Threadpool Completion Port) \n",
      "XXXX   84    0 000002338c535c90  8039820 Preemptive  0000000000000000:0000000000000000 00000233dc127410 0     Ukn (Threadpool Completion Port) \n",
      "XXXX   86    0 000002338cb20720  8039820 Preemptive  0000000000000000:0000000000000000 00000233dc127410 0     Ukn (Threadpool Completion Port) \n",
      "XXXX   83    0 000002338ef94cf0  8039820 Preemptive  0000000000000000:0000000000000000 00000233dc127410 0     Ukn (Threadpool Completion Port) \n",
      "XXXX   80    0 000002338cb20ef0  8039820 Preemptive  0000000000000000:0000000000000000 00000233dc127410 0     Ukn (Threadpool Completion Port) \n",
      "XXXX   92    0 000002338ef94520  8039820 Preemptive  0000000000000000:0000000000000000 00000233dc127410 0     Ukn (Threadpool Completion Port) \n",
      "XXXX   91    0 00000233dc4ed480  8039820 Preemptive  0000000000000000:0000000000000000 00000233dc127410 0     Ukn (Threadpool Completion Port) \n",
      "XXXX   87    0 000002338c5325e0  8039820 Preemptive  0000000000000000:0000000000000000 00000233dc127410 0     Ukn (Threadpool Completion Port) \n",
      "XXXX   89    0 00000233dc492fd0  8039820 Preemptive  0000000000000000:0000000000000000 00000233dc127410 0     Ukn (Threadpool Completion Port) \n",
      "XXXX  110    0 000002338c83f4a0  8039820 Preemptive  0000000000000000:0000000000000000 00000233dc127410 0     Ukn (Threadpool Completion Port) \n",
      "XXXX  111    0 000002338f0f2190  8039820 Preemptive  0000000000000000:0000000000000000 00000233dc127410 0     Ukn (Threadpool Completion Port) \n",
      "XXXX  112    0 000002338f155560  8039820 Preemptive  0000000000000000:0000000000000000 00000233dc127410 0     Ukn (Threadpool Completion Port) \n",
      "XXXX  115    0 000002338c83fc70  8039820 Preemptive  0000000000000000:0000000000000000 00000233dc127410 0     Ukn (Threadpool Completion Port) \n",
      "XXXX  119    0 000002338c857be0    39820 Preemptive  0000000000000000:0000000000000000 00000233dc127410 0     Ukn \n",
      "XXXX  114    0 00000233dc493f70  8039820 Preemptive  0000000000000000:0000000000000000 00000233dc127410 0     Ukn (Threadpool Completion Port) \n",
      "XXXX  118    0 000002338c8bb350  8039820 Preemptive  0000000000000000:0000000000000000 00000233dc127410 0     Ukn (Threadpool Completion Port) \n",
      "XXXX  113    0 000002338a151c40  8039820 Preemptive  0000000000000000:0000000000000000 00000233dc127410 0     Ukn (Threadpool Completion Port) \n",
      "XXXX  116    0 000002338c8b9410  8039820 Preemptive  0000000000000000:0000000000000000 00000233dc127410 0     Ukn (Threadpool Completion Port) \n",
      "XXXX  120    0 000002338ea68c40  8039820 Preemptive  0000000000000000:0000000000000000 00000233dc127410 0     Ukn (Threadpool Completion Port) \n",
      "XXXX  121    0 000002338c8bbb20  8039820 Preemptive  0000000000000000:0000000000000000 00000233dc127410 0     Ukn (Threadpool Completion Port) \n",
      "  56  122  b34 000002338ea69410  8029220 Preemptive  00000233E5C9E6E8:00000233E5CA00D8 00000233dc127410 0     MTA (Threadpool Completion Port) \n",
      "XXXX  123    0 000002338c923a70  8039820 Preemptive  0000000000000000:0000000000000000 00000233dc127410 0     Ukn (Threadpool Completion Port) \n",
      "XXXX  124    0 000002338ea68470  8039820 Preemptive  0000000000000000:0000000000000000 00000233dc127410 0     Ukn (Threadpool Completion Port) \n",
      "XXXX  125    0 000002338f1909e0  8039820 Preemptive  0000000000000000:0000000000000000 00000233dc127410 0     Ukn (Threadpool Completion Port) \n",
      "XXXX  126    0 000002338ea69be0  8039820 Preemptive  0000000000000000:0000000000000000 00000233dc127410 0     Ukn (Threadpool Completion Port) \n",
      "XXXX  127    0 000002338c924240  8039820 Preemptive  0000000000000000:0000000000000000 00000233dc127410 0     Ukn (Threadpool Completion Port) \n",
      "XXXX  128    0 000002338c8b9be0  8039820 Preemptive  0000000000000000:0000000000000000 00000233dc127410 0     Ukn (Threadpool Completion Port) \n",
      "XXXX  129    0 00000233dc0ae880  8039820 Preemptive  0000000000000000:0000000000000000 00000233dc127410 0     Ukn (Threadpool Completion Port) \n",
      "  57  130 8874 000002338f1911b0  8029220 Preemptive  000002342722B2F0:000002342722CFD8 00000233dc127410 0     MTA (Threadpool Completion Port) \n",
      "XXXX  131    0 00000233dc5d60d0  8039820 Preemptive  0000000000000000:0000000000000000 00000233dc127410 0     Ukn (Threadpool Completion Port) \n",
      "XXXX  132    0 000002338c8ba3b0  8039820 Preemptive  0000000000000000:0000000000000000 00000233dc127410 0     Ukn (Threadpool Completion Port) \n",
      "XXXX  133    0 000002338cb3ae60  8039820 Preemptive  0000000000000000:0000000000000000 00000233dc127410 0     Ukn (Threadpool Completion Port) \n",
      "XXXX  134    0 000002338f157c70  8039820 Preemptive  0000000000000000:0000000000000000 00000233dc127410 0     Ukn (Threadpool Completion Port) \n",
      "  58  137 80a8 000002338ea64c30  8029220 Preemptive  00000233E5C91DC8:00000233E5C920D8 00000233dc127410 0     MTA (Threadpool Completion Port) \n",
      "  60  138 3240 000002338cb07ca0  8029220 Preemptive  0000023427229B80:000002342722AFD8 00000233dc127410 0     MTA (Threadpool Completion Port) \n",
      "  59  117 3bec 000002338ae08210  8029220 Preemptive  0000023427228158:0000023427228FD8 00000233dc127410 0     MTA (Threadpool Completion Port) \n",
      "  61  140 2a14 000002338ea65400  8029220 Preemptive  0000023427235240:0000023427236FD8 00000233dc127410 0     MTA (Threadpool Completion Port) \n",
      "  62  135  5cc 00000233824b3ef0  8029220 Preemptive  00000233E5C9C848:00000233E5C9E0D8 00000233dc127410 0     MTA (Threadpool Completion Port) \n",
      "  63  136 63d8 00000233824884f0  8029220 Preemptive  00000234272313F0:0000023427232FD8 00000233dc127410 0     MTA (Threadpool Completion Port) \n",
      "  64  141 1158 000002338ea65bd0  8029220 Preemptive  000002342722D880:000002342722EFD8 00000233dc127410 0     MTA (Threadpool Completion Port) \n",
      "  65  142 467c 000002338c82b470  8029220 Preemptive  000002342723DDB8:000002342723EFD8 00000233dc127410 0     MTA (Threadpool Completion Port) \n",
      "  66  143  6e4 000002338cb05590  8029220 Preemptive  0000000000000000:0000000000000000 00000233dc127410 0     MTA (Threadpool Completion Port) \n",
      "  67  144 853c 000002338c880a00  8029220 Preemptive  0000000000000000:0000000000000000 00000233dc127410 0     MTA (Threadpool Completion Port) \n",
      "  68  145 8978 000002338f191980  8029220 Preemptive  0000023427233438:0000023427234FD8 00000233dc127410 0     MTA (Threadpool Completion Port) \n",
      "  69  146  4a8 000002338c882940  8029220 Preemptive  0000000000000000:0000000000000000 00000233dc127410 0     MTA (Threadpool Completion Port) \n",
      "  70  147  af0 000002338c82c410  8029220 Preemptive  00000233E5C9AAF8:00000233E5C9C0D8 00000233dc127410 0     MTA (Threadpool Completion Port) \n",
      "  71  148 60e0 000002338cb074d0  8029220 Preemptive  0000000000000000:0000000000000000 00000233dc127410 0     MTA (Threadpool Completion Port) \n",
      "  72  139 5d84 000002338f192920  8029220 Preemptive  00000233E5C988C8:00000233E5C9A0D8 00000233dc127410 0     MTA (Threadpool Completion Port) \n",
      "  73  149 6ee8 000002338f155d30  8029220 Preemptive  0000000000000000:0000000000000000 00000233dc127410 0     MTA (Threadpool Completion Port) \n",
      "  74  150 4114 000002338c82cbe0  8029220 Preemptive  0000000000000000:0000000000000000 00000233dc127410 0     MTA (Threadpool Completion Port) \n",
      "  75  151 6ba8 000002338ea67340  8029220 Preemptive  0000000000000000:0000000000000000 00000233dc127410 0     MTA (Threadpool Completion Port) \n"
     ]
    }
   ],
   "source": [
    ".chain\n",
    "!threads\n"
   ]
  }
 ],
 "metadata": {
  "kernelspec": {
   "display_name": ".NET (C#)",
   "language": "C#",
   "name": ".net-csharp"
  },
  "language_info": {
   "name": "python"
  },
  "polyglot_notebook": {
   "kernelInfo": {
    "defaultKernelName": "csharp",
    "items": [
     {
      "aliases": [],
      "name": "csharp"
     },
     {
      "aliases": [],
      "name": "windbg"
     }
    ]
   }
  }
 },
 "nbformat": 4,
 "nbformat_minor": 2
}
