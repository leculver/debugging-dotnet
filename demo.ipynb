{
 "cells": [
  {
   "cell_type": "markdown",
   "metadata": {},
   "source": [
    "# WinDbg notebooks\n",
    "\n",
    "This is a demo of putting windbg into Polyglot Notebooks.\n",
    "\n",
    "## Setup\n",
    "\n",
    "This is boilerplate code.  The `#!import` will not be needed in the future, we'd just reference the WinDbgKernel nuget package with `#r`."
   ]
  },
  {
   "cell_type": "code",
   "execution_count": 1,
   "metadata": {
    "dotnet_interactive": {
     "language": "csharp"
    },
    "polyglot_notebook": {
     "kernelName": "csharp"
    },
    "vscode": {
     "languageId": "polyglot-notebook"
    }
   },
   "outputs": [
    {
     "data": {
      "text/html": [
       "<div><div></div><div></div><div><strong>Installed Packages</strong><ul><li><span>Microsoft.Diagnostics.Runtime, 3.1.512801</span></li></ul></div></div>"
      ]
     },
     "metadata": {},
     "output_type": "display_data"
    }
   ],
   "source": [
    "#r \"nuget:Microsoft.Diagnostics.Runtime\"\n",
    "#r \".\\WinDbgKernel\\bin\\Debug\\net8.0-windows10.0.17763.0\\publish\\WinDbgKernel.dll\"\n",
    "#!import \".\\WinDbgKernel\\extension.dib\"\n"
   ]
  },
  {
   "cell_type": "markdown",
   "metadata": {},
   "source": [
    "# Load ClrMD and work with it\n",
    "\n",
    "Some of our more advanced debugging workflows require us to really dig into dump files.  For example, what URIs are currently in flight with this copy of VS crashed?"
   ]
  },
  {
   "cell_type": "code",
   "execution_count": 6,
   "metadata": {
    "vscode": {
     "languageId": "polyglot-notebook"
    }
   },
   "outputs": [
    {
     "name": "stdout",
     "output_type": "stream",
     "text": [
      "https://go.microsoft.com/fwlink/?LinkId=690387\n",
      "https://targetednotifications-tm.trafficmanager.net/api/values\n",
      "https://nettel.visualstudio.com/site/sha\n",
      "https://spsprodeus21.vssps.visualstudio.com/_signin?realm=nettel.visualstudio.com&reply_to=https%3A%2F%2Fnettel.visualstudio.com%2Fsite%2Fsha&redirect=1&hid=1aa84f04-1e7e-49b6-8b26-e349b5bd5e30&context=eyJodCI6MiwiaGlkIjoiYmIyNWI4NjYtOTYwNC00MmNmLWFiNTQtNmVmMWE1ZjAxZTlkIiwicXMiOnt9LCJyciI6IiIsInZoIjoiIiwiY3YiOiIiLCJjcyI6IiJ90#ctx=eyJTaWduSW5Db29raWVEb21haW5zIjpbImh0dHBzOi8vbG9naW4ubWljcm9zb2Z0b25saW5lLmNvbSIsImh0dHBzOi8vbG9naW4ubWljcm9zb2Z0b25saW5lLmNvbSJdfQ2\n",
      "https://nettel.visualstudio.com:443/DefaultCollection/SymVerifier/_git/SymVerifier/vsts/info\n",
      "https://microsoft.visualstudio.com/site/sha\n",
      "https://app.vssps.visualstudio.com/_apis/connectionData?connectOptions=0&lastChangeId=8527&lastChangeId64=8527\n",
      "https://api.vstsusers.visualstudio.com/_apis/connectionData?connectOptions=1&lastChangeId=83&lastChangeId64=83\n",
      "https://dev.azure.com/site/sha\n",
      "https://api.vstsusers.visualstudio.com/_apis/Profile/Profiles/me?details=true&coreattributes=Minimal%2CEmail%2CAvatar%2CDisplayName%2CContactWithOffers%2CAll\n",
      "https://api.nuget.org/v3/index.json\n",
      "https://spsprodeus27.vssps.visualstudio.com/_signin?realm=dev.azure.com&reply_to=https%3A%2F%2Fdev.azure.com%2Fsite%2Fsha&redirect=1&hid=e7f0789a-9fce-4ac7-afe1-ea2ae2942e33&context=eyJodCI6MiwiaGlkIjoiZjdkZTVmMzYtZGE2Yi00YmJiLWIzZDMtMWRkMTg1MzI0M2IwIiwicXMiOnt9LCJyciI6IiIsInZoIjoiIiwiY3YiOiIiLCJjcyI6IiJ90#ctx=eyJTaWduSW5Db29raWVEb21haW5zIjpbImh0dHBzOi8vbG9naW4ubWljcm9zb2Z0b25saW5lLmNvbSIsImh0dHBzOi8vbG9naW4ubWljcm9zb2Z0b25saW5lLmNvbSJdfQ2\n",
      "https://az700632.vo.msecnd.net/pub/FlightsData/ShippedFlights.json\n",
      "https://az700632.vo.msecnd.net/pub/RemoteSettings/RemoteSettings_Common_17.0.json\n",
      "https://app.vssps.visualstudio.com/_apis/connectionData?connectOptions=1&lastChangeId=8526&lastChangeId64=8526\n",
      "https://nettel.visualstudio.com/Services/v3.0/LocationService.asmx\n",
      "https://nettel.visualstudio.com/_apis/\n",
      "https://visualstudio-devdiv-c2s.msedge.net/ab\n",
      "https://az700632.vo.msecnd.net/pub/FlightsData/DisabledFlights.json\n",
      "https://api.github.com/user\n",
      "https://nettel.visualstudio.com/TeamFoundation/Administration/v3.0/CatalogService.asmx\n",
      "https://avatars.githubusercontent.com/u/8496639?v=4\n",
      "https://spsprodwus24.vssps.visualstudio.com/_signin?realm=microsoft.visualstudio.com&reply_to=https%3A%2F%2Fmicrosoft.visualstudio.com%2Fsite%2Fsha&redirect=1&hid=cb55739e-4afe-46a3-970f-1b49d8ee7564&context=eyJodCI6MiwiaGlkIjoiYjk2MmVkNGYtNjY3MC00YTM3LWFkMjQtOGI5MzgxNTMwZTY3IiwicXMiOnt9LCJyciI6IiIsInZoIjoiIiwiY3YiOiIiLCJjcyI6IiJ90#ctx=eyJTaWduSW5Db29raWVEb21haW5zIjpbImh0dHBzOi8vbG9naW4ubWljcm9zb2Z0b25saW5lLmNvbSIsImh0dHBzOi8vbG9naW4ubWljcm9zb2Z0b25saW5lLmNvbSJdfQ2\n",
      "https://api.nuget.org/v3-vulnerabilities/2024.01.04.06.45.58/2024.01.05.12.46.08/vulnerability.update.json\n",
      "https://api.vstsusers.visualstudio.com/_apis/Profile/Profiles/me/Avatar?size=Small\n",
      "https://api.vstsusers.visualstudio.com/_apis/Profile/Profiles/me/Avatar?size=Large\n"
     ]
    }
   ],
   "source": [
    "using Microsoft.Diagnostics.Runtime;\n",
    "\n",
    "DataTarget dt = DataTarget.LoadDump(@\"d:\\work\\crash.dmp\");\n",
    "ClrRuntime runtime = dt.ClrVersions[0].CreateRuntime();\n",
    "\n",
    "HashSet<string> uniqueUris = new HashSet<string>();\n",
    "foreach (ClrObject obj in runtime.Heap.EnumerateObjects())\n",
    "{\n",
    "    if (obj.Type.Name.Contains(\"System.Net.HttpWebRequest\"))\n",
    "    {\n",
    "        string uri = obj.ReadObjectField(\"_Uri\").ReadStringField(\"m_String\");\n",
    "        if (uniqueUris.Add(uri))\n",
    "            Console.WriteLine(uri);\n",
    "    }\n",
    "}"
   ]
  },
  {
   "cell_type": "markdown",
   "metadata": {},
   "source": [
    "# Load the dump in windbg\n",
    "\n",
    "This is how we would initialize windbg and point it to a dumpfile.\n",
    "\n",
    "I have not implemented syntax highlighting and intellisense yet.  Even without it, note that GitHub copilot works here for WinDbg commands without us having to do anything!"
   ]
  },
  {
   "cell_type": "code",
   "execution_count": 3,
   "metadata": {
    "dotnet_interactive": {
     "language": "windbg"
    },
    "polyglot_notebook": {
     "kernelName": "windbg"
    },
    "vscode": {
     "languageId": "polyglot-notebook"
    }
   },
   "outputs": [
    {
     "name": "stdout",
     "output_type": "stream",
     "text": [
      "Dump file 'd:\\work\\crash.dmp' loaded successfully.\n",
      "0:000> .unload\n",
      "Unloading d:\\my\\sym\\SO\\SOS_AMD64_AMD64_4.8.9181.00.dll\\64B854789a4000\\SOS_AMD64_AMD64_4.8.9181.00.dll extension DLL\n",
      "0:000> .load C:\\Users\\leculver\\.dotnet\\sos\\sos.dll\n",
      "0:000> .lastevent\n",
      "Last event: 7298.5178: Break instruction exception - code 80000003 (first/second chance not available)\n",
      "  debugger time: Thu Jun 27 14:31:53.296 2024 (UTC - 7:00)\n",
      "0:000> .frame\n",
      "00 000000f1`e2afebc8 00007ffa`5eef183e     win32u!ZwUserMsgWaitForMultipleObjectsEx+0x14 [onecoreuap\\windows\\core\\umode\\moderncore\\objfre\\amd64\\usrstubs.asm @ 9901]\n"
     ]
    }
   ],
   "source": [
    "#!verboseSymbols false\n",
    "#!dbgengPath d:\\amd64\n",
    "#!sympath SRV*d:\\symbols*http://symweb.corp.microsoft.com\n",
    "#!loadDump \"d:\\work\\crash.dmp\"\n",
    "\n",
    "* Comments in WinDbg start with an asterisk\n",
    "* This is boilerplate to load a better version of sos.  In the future this will be taken care of for us.\n",
    "\n",
    ".unload\n",
    ".load C:\\Users\\leculver\\.dotnet\\sos\\sos.dll\n",
    "\n",
    "* Show the last event and frame where we are stopped at.\n",
    "\n",
    ".lastevent\n",
    ".frame"
   ]
  },
  {
   "cell_type": "markdown",
   "metadata": {},
   "source": [
    "# Using SOS\n",
    "\n",
    "Now that we have SOS and ClrMD loaded, we can run any debugger commands.  For example, let's take a look at what our virtual address space looks like with the managed aware `!maddress`:"
   ]
  },
  {
   "cell_type": "code",
   "execution_count": 4,
   "metadata": {
    "dotnet_interactive": {
     "language": "windbg"
    },
    "polyglot_notebook": {
     "kernelName": "windbg"
    },
    "vscode": {
     "languageId": "polyglot-notebook"
    }
   },
   "outputs": [
    {
     "name": "stdout",
     "output_type": "stream",
     "text": [
      "0:000> !maddress -stat\n",
      " +------------------------------------------------------------------------------------+ \n",
      " | Memory Type                       |          Count |         Size |   Size (bytes) | \n",
      " +------------------------------------------------------------------------------------+ \n",
      " | Image                             |         16,364 |       1.69gb |  1,813,696,512 | \n",
      " | GCHeap                            |              4 |     349.20mb |    366,166,016 | \n",
      " | MAPPED_READONLY                   |            256 |      89.32mb |     93,663,232 | \n",
      " | Heap                              |            106 |      74.98mb |     78,626,816 | \n",
      " | Other                             |            435 |      72.27mb |     75,780,096 | \n",
      " | PAGE_READWRITE                    |            111 |      69.50mb |     72,876,032 | \n",
      " | PAGE_READWRITE, PAGE_WRITECOMBINE |             14 |      28.60mb |     29,990,912 | \n",
      " | HighFrequencyHeap                 |            182 |      11.76mb |     12,333,056 | \n",
      " | LowFrequencyHeap                  |            140 |       9.46mb |      9,920,512 | \n",
      " | Stack                             |            155 |       5.60mb |      5,873,664 | \n",
      " | LoaderCodeHeap                    |             13 |       5.16mb |      5,414,912 | \n",
      " | ResolveHeap                       |              7 |       1.80mb |      1,892,352 | \n",
      " | DispatchHeap                      |              5 |     916.00kb |        937,984 | \n",
      " | HostCodeHeap                      |              8 |     780.00kb |        798,720 | \n",
      " | StubHeap                          |             12 |     664.00kb |        679,936 | \n",
      " | CacheEntryHeap                    |             11 |     628.00kb |        643,072 | \n",
      " | Teb                               |             76 |     608.00kb |        622,592 | \n",
      " | MAPPED_READWRITE                  |             13 |     368.00kb |        376,832 | \n",
      " | MAPPED_WRITECOPY                  |              1 |     288.00kb |        294,912 | \n",
      " | LookupHeap                        |              6 |     280.00kb |        286,720 | \n",
      " | IndirectionCellHeap               |              4 |     168.00kb |        172,032 | \n",
      " | PAGE_EXECUTE_READ                 |              5 |      80.00kb |         81,920 | \n",
      " | PAGE_EXECUTE_READWRITE            |             10 |      72.00kb |         73,728 | \n",
      " | PAGE_READONLY                     |              2 |      48.00kb |         49,152 | \n",
      " | Peb                               |              1 |       4.00kb |          4,096 | \n",
      " +------------------------------------------------------------------------------------+ \n",
      " | [TOTAL]                           |         17,941 |       2.39gb |  2,571,255,808 | \n",
      " +------------------------------------------------------------------------------------+ \n"
     ]
    },
    {
     "name": "stderr",
     "output_type": "stream",
     "text": [
      "Enumerating and tagging the entire address space and caching the result...\r\n",
      "Subsequent runs of this command should be faster.\r\n"
     ]
    }
   ],
   "source": [
    "!maddress -stat"
   ]
  },
  {
   "cell_type": "markdown",
   "metadata": {},
   "source": [
    "# DbgEng object model\n",
    "\n",
    "DbgEng has an object model, which is accessed through the `dx` command.\n",
    "\n",
    "The important thing to realize is that we can project this object model back into C# code."
   ]
  },
  {
   "cell_type": "code",
   "execution_count": 5,
   "metadata": {
    "dotnet_interactive": {
     "language": "windbg"
    },
    "polyglot_notebook": {
     "kernelName": "windbg"
    },
    "vscode": {
     "languageId": "polyglot-notebook"
    }
   },
   "outputs": [
    {
     "name": "stdout",
     "output_type": "stream",
     "text": [
      "0:000> dx @$curprocess.Threads[0x5178].Stack.Frames\n",
      "@$curprocess.Threads[0x5178].Stack.Frames\n",
      "    [0x0]            : win32u!ZwUserMsgWaitForMultipleObjectsEx + 0x14\n",
      "    [0x1]            : VsLog!VSResponsiveness::Detours::DetourMsgWaitForMultipleObjectsEx + 0x6e\n",
      "    [0x2]            : msenv!MainMessageLoop::BlockingWait + 0x27\n",
      "    [0x3]            : msenv!CMsoCMHandler::EnvironmentMsgLoop + 0x209\n",
      "    [0x4]            : msenv!CMsoCMHandler::FPushMessageLoop + 0x73\n",
      "    [0x5]            : msenv!SCM::FPushMessageLoop + 0x105\n",
      "    [0x6]            : msenv!SCM_MsoCompMgr::FPushMessageLoop + 0x3f\n",
      "    [0x7]            : msenv!CMsoComponent::PushMsgLoop + 0x3d\n",
      "    [0x8]            : msenv!VStudioMainLogged + 0x881\n",
      "    [0x9]            : msenv!VStudioMain + 0xdc\n",
      "    [0xa]            : devenv!util_CallVsMain + 0x5c\n",
      "    [0xb]            : devenv!CDevEnvAppId::Run + 0x1e03\n",
      "    [0xc]            : devenv!WinMain + 0xd0\n",
      "    [0xd]            : devenv!invoke_main + 0x21\n",
      "    [0xe]            : devenv!__scrt_common_main_seh + 0x106\n",
      "    [0xf]            : kernel32!BaseThreadInitThunk + 0x1d\n",
      "    [0x10]           : ntdll!RtlUserThreadStart + 0x28\n"
     ]
    }
   ],
   "source": [
    "dx @$curprocess.Threads[0x5178].Stack.Frames\n"
   ]
  },
  {
   "cell_type": "markdown",
   "metadata": {},
   "source": [
    "# Using @$currprocess in C#\n",
    "\n",
    "Not yet implemented, but projecting these values back into C# is straight forward to implement.  To use it, simply use the variable name as you would expect.  Enumerating `@$curprocess.Threads` would look something like this:"
   ]
  },
  {
   "cell_type": "code",
   "execution_count": 5,
   "metadata": {
    "vscode": {
     "languageId": "polyglot-notebook"
    }
   },
   "outputs": [
    {
     "ename": "Error",
     "evalue": "(1,40): error CS0103: The name 'currprocess' does not exist in the current context\r\n(1,22): error CS0246: The type or namespace name 'Thread' could not be found (are you missing a using directive or an assembly reference?)\r\n(8,28): error CS0103: The name 'currprocess' does not exist in the current context",
     "output_type": "error",
     "traceback": [
      "(1,40): error CS0103: The name 'currprocess' does not exist in the current context\r\n",
      "(1,22): error CS0246: The type or namespace name 'Thread' could not be found (are you missing a using directive or an assembly reference?)\r\n",
      "(8,28): error CS0103: The name 'currprocess' does not exist in the current context"
     ]
    }
   ],
   "source": [
    "foreach ((uint osid, Thread thread) in currprocess.Threads)\n",
    "{\n",
    "   // Do something\n",
    "}\n",
    "\n",
    "bool isFinalizerWaiting = false;\n",
    "uint finalizerThread = runtime.Threads.FirstOrDefault(t => t.IsFinalizer)?.OSThreadId ?? 0;\n",
    "foreach (var stackFrame in currprocess.Threads[finalizerThread].Stack.Frames)\n",
    "{\n",
    "    if (stackFrame == \"coreclr!WaitForFinalizerEvent\")\n",
    "    {\n",
    "        isFinalizerWaiting = true;\n",
    "        break;\n",
    "    }\n",
    "}"
   ]
  },
  {
   "cell_type": "markdown",
   "metadata": {},
   "source": [
    "# Using C# variables in WinDbg\n",
    "\n",
    "Though the uses will be more limited, we can also project C# variables back into WinDbg.  I've arbitrarily chosen `$` to distinguish between real windbg pseudo variables `@$` but this is modifyable."
   ]
  },
  {
   "cell_type": "code",
   "execution_count": null,
   "metadata": {
    "dotnet_interactive": {
     "language": "windbg"
    },
    "polyglot_notebook": {
     "kernelName": "windbg"
    },
    "vscode": {
     "languageId": "polyglot-notebook"
    }
   },
   "outputs": [],
   "source": [
    "* Swap to the finalizer thread with the '~~[osid]s' syntax\n",
    "\n",
    "~~[$finalizerThread]s\n",
    "kn\n"
   ]
  },
  {
   "cell_type": "markdown",
   "metadata": {},
   "source": [
    "# Building interactive code\n",
    "\n",
    "Note that notebooks aren't fully static either.  You can write code which adds code to cells.  While the example below is contrived, imagine the start of a notebook essentially points you at next steps and generates WinDbg commands that would be useful to run."
   ]
  },
  {
   "cell_type": "code",
   "execution_count": 15,
   "metadata": {
    "vscode": {
     "languageId": "polyglot-notebook"
    }
   },
   "outputs": [],
   "source": [
    "using Microsoft.DotNet.Interactive;\n",
    "using Microsoft.DotNet.Interactive.Commands;\n",
    "\n",
    "var command = new SendEditableCode(\n",
    "    \"windbg\", \n",
    "    \"kn\\n!clrthreads\");\n",
    "\n",
    "var input = await Kernel.Root.SendAsync(command);"
   ]
  }
 ],
 "metadata": {
  "kernelspec": {
   "display_name": ".NET (C#)",
   "language": "C#",
   "name": ".net-csharp"
  },
  "language_info": {
   "name": "python"
  },
  "polyglot_notebook": {
   "kernelInfo": {
    "defaultKernelName": "csharp",
    "items": [
     {
      "aliases": [],
      "name": "csharp"
     },
     {
      "aliases": [],
      "name": "windbg"
     }
    ]
   }
  }
 },
 "nbformat": 4,
 "nbformat_minor": 2
}
