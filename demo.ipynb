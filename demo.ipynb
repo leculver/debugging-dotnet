{
 "cells": [
  {
   "cell_type": "markdown",
   "metadata": {},
   "source": [
    "# WinDbg notebooks\n",
    "\n",
    "This is a demo of putting windbg into Polyglot Notebooks.\n",
    "\n",
    "## Setup\n",
    "\n",
    "This is boilerplate code.  The `#!import` will not be needed in the future, we'd just reference the WinDbgKernel nuget package with `#r`."
   ]
  },
  {
   "cell_type": "code",
   "execution_count": 1,
   "metadata": {
    "dotnet_interactive": {
     "language": "csharp"
    },
    "polyglot_notebook": {
     "kernelName": "csharp"
    },
    "vscode": {
     "languageId": "polyglot-notebook"
    }
   },
   "outputs": [
    {
     "data": {
      "text/html": [
       "<div><div></div><div></div><div><strong>Installed Packages</strong><ul><li><span>Microsoft.Diagnostics.Runtime, 3.1.512801</span></li></ul></div></div>"
      ]
     },
     "metadata": {},
     "output_type": "display_data"
    }
   ],
   "source": [
    "#r \"nuget:Microsoft.Diagnostics.Runtime\"\n",
    "#r \".\\WinDbgKernel\\bin\\Debug\\net8.0-windows10.0.17763.0\\publish\\WinDbgKernel.dll\"\n",
    "#!import \".\\WinDbgKernel\\extension.dib\"\n",
    "\n",
    "// System.Diagnostics.Debugger.Launch();"
   ]
  },
  {
   "cell_type": "code",
   "execution_count": 2,
   "metadata": {
    "vscode": {
     "languageId": "polyglot-notebook"
    }
   },
   "outputs": [],
   "source": [
    "using Microsoft.Diagnostics.Runtime;\n",
    "\n",
    "DataTarget dt = DataTarget.LoadDump(@\"d:\\work\\crash.dmp\");\n",
    "ClrRuntime runtime = dt.ClrVersions[0].CreateRuntime();"
   ]
  },
  {
   "cell_type": "markdown",
   "metadata": {},
   "source": [
    "# Load the dump in windbg\n",
    "\n",
    "This is how we would initialize windbg and point it to a dumpfile.\n",
    "\n",
    "I have not implemented syntax highlighting and intellisense yet.  Even without it, note that GitHub copilot works here for WinDbg commands without us having to do anything!"
   ]
  },
  {
   "cell_type": "code",
   "execution_count": 3,
   "metadata": {
    "dotnet_interactive": {
     "language": "windbg"
    },
    "polyglot_notebook": {
     "kernelName": "windbg"
    },
    "vscode": {
     "languageId": "polyglot-notebook"
    }
   },
   "outputs": [
    {
     "name": "stdout",
     "output_type": "stream",
     "text": [
      "Dump file 'd:\\work\\crash.dmp' loaded successfully.\n",
      "0:000> .unload\n",
      "Unloading d:\\my\\sym\\SO\\SOS_AMD64_AMD64_4.8.9181.00.dll\\64B854789a4000\\SOS_AMD64_AMD64_4.8.9181.00.dll extension DLL\n",
      "0:000> .load C:\\Users\\leculver\\.dotnet\\sos\\sos.dll\n",
      "0:000> .lastevent\n",
      "Last event: 7298.5178: Break instruction exception - code 80000003 (first/second chance not available)\n",
      "  debugger time: Fri Jun 28 14:10:34.065 2024 (UTC - 7:00)\n",
      "0:000> .frame\n",
      "00 000000f1`e2afebc8 00007ffa`5eef183e     win32u!ZwUserMsgWaitForMultipleObjectsEx+0x14 [onecoreuap\\windows\\core\\umode\\moderncore\\objfre\\amd64\\usrstubs.asm @ 9901]\n"
     ]
    }
   ],
   "source": [
    "#!verboseSymbols false\n",
    "#!dbgengPath d:\\amd64\n",
    "#!sympath SRV*d:\\symbols*http://symweb.corp.microsoft.com\n",
    "#!loadDump \"d:\\work\\crash.dmp\"\n",
    "\n",
    "* Comments in WinDbg start with an asterisk\n",
    "* This is boilerplate to load a better version of sos.  In the future this will be taken care of for us.\n",
    "\n",
    ".unload\n",
    ".load C:\\Users\\leculver\\.dotnet\\sos\\sos.dll\n",
    "\n",
    "* Show the last event and frame where we are stopped at.\n",
    "\n",
    ".lastevent\n",
    ".frame"
   ]
  },
  {
   "cell_type": "code",
   "execution_count": 5,
   "metadata": {
    "vscode": {
     "languageId": "polyglot-notebook"
    }
   },
   "outputs": [
    {
     "name": "stdout",
     "output_type": "stream",
     "text": [
      "29336\n",
      "devenv.exe\n",
      "4644\n",
      "ntdll!ZwWaitForMultipleObjects + 0x14\n",
      "KERNELBASE!WaitForMultipleObjectsEx + 0xe9\n",
      "   ConsoleHandle = 0x80004005\n",
      "  unsigned char CopyHandles = 0x00\n",
      "  _RTL_CALLER_ALLOCATED_ACTIVATION_CONTEXT_STACK_FRAME_EXTENDED Frame = \n",
      "  void * * HandleArray = 0x00007ffab98d69a8\n",
      "  void * [64] Handles = \n",
      "  _PEB * Peb = 0x000000f1e2854000\n",
      "   RetVal = 0x80004005\n",
      "  long Status = 32762\n",
      "  _LARGE_INTEGER TimeOut = \n",
      "  unsigned long i = 0x00000002\n",
      "  _LARGE_INTEGER * pTimeOut = 0x0000000000000000\n",
      "  int bAlertable = 0\n",
      "  int bWaitAll = 0\n",
      "  unsigned long dwMilliseconds = 0x00000001\n",
      "  void * * lpHandles = 0x0000000000000001\n",
      "  unsigned long nCount = 0x00000002\n",
      "clr!FinalizerThread::WaitForFinalizerEvent + 0x9f\n",
      "   cEventsForWait = 0x80004005\n",
      "  CLREvent * event = 0x00000233dc1a5f50\n",
      "   sLastLowMemoryFromHost = 0x80004005\n",
      "   timeout = 0x80004005\n",
      "  unsigned int uiEventIndexOffsetForWait = 0x00000000\n",
      "clr!FinalizerThread::FinalizerThreadWorker + 0x40\n",
      "  int bPriorityBoosted = 1\n",
      "  SystemDomain::LockHolder lh = \n",
      "   args = 0x80004005\n",
      "clr!ManagedThreadBase_DispatchInner + 0x33\n",
      "   fSetupEHAtTransition = 0x80004005\n",
      "   pThread = 0x80004005\n",
      "  ManagedThreadCallState * pCallState = 0x000000f1e347fde8\n",
      "clr!ManagedThreadBase_DispatchMiddle + 0x83\n",
      "  CAutoTryCleanup<CLRException::HandlerState> __autoCleanupTry = \n",
      "  CLRLastThrownObjectException __defaultException = \n",
      "  GCCoop __gcHolder = \n",
      "  ExceptionHolderTemplate<Exception> __pException = \n",
      "  Exception * __pExceptionRaw = 0x0000000000000000\n",
      "  SOIntolerantTransitionHandler __soIntolerantTransitionHandler = \n",
      "  CLRException::HandlerState __state = \n",
      "  ManagedThreadBase_DispatchMiddle::__l20::Cleanup cleanup = \n",
      "  ManagedThreadCallState * pCallState = 0x000000f1e347fde8\n",
      "clr!ManagedThreadBase_DispatchOuter + 0x87\n",
      "  unsigned long __exCode = 0x00000000\n",
      "   __pThread = 0x80004005\n",
      "  Param * __param = 0x000000f1e347fd58\n",
      "  ManagedThreadBase_DispatchOuter::__l2::TryArgs args = \n",
      "  FrameWithCookie<DebuggerU2MCatchHandlerFrame> catchFrame = \n",
      "  Frame * pFrame = 0xffffffffffffffff\n",
      "  Thread * pThread = 0x00000233dc0ae0b0\n",
      "  Param param = \n",
      "  ManagedThreadCallState * pCallState = 0x000000f1e347fde8\n",
      "clr!ManagedThreadBase_NoADTransition + 0x3b\n",
      "  ManagedThreadCallState CallState = \n",
      "   pAppDomain = 0x80004005\n",
      "clr!ManagedThreadBase::FinalizerBase + 0x3b\n",
      "clr!FinalizerThread::FinalizerThreadStart + 0x107\n",
      "  unsigned long __exCode = 0x00000000\n",
      "   __pThread = 0x80004005\n",
      "   s_FinalizerThreadOK = 0x80004005\n",
      "  void * args = 0x0000000000000000\n",
      "clr!Thread::intermediateThreadProc + 0x8a\n",
      "  unsigned long (__cdecl*)(void *) ThreadFcnPtr = 0x00007ffab90ca1a0\n",
      "  void * args = 0x0000000000000000\n",
      "   arg = 0x80004005\n",
      "kernel32!BaseThreadInitThunk + 0x1d\n",
      "   Argument = 0x80004005\n",
      "   RunProcessInit = 0x80004005\n",
      "   StartAddress = 0x80004005\n",
      "ntdll!RtlUserThreadStart + 0x28\n",
      "  void * Argument = 0x0000000000000000\n",
      "  long (__cdecl*)(void *) StartAddress = 0x0000000000000000\n"
     ]
    }
   ],
   "source": [
    "#!share --from windbg curprocess --as curprocess\n",
    "\n",
    "Console.WriteLine(curprocess.Id);\n",
    "Console.WriteLine(curprocess.Name);\n",
    "\n",
    "ClrThread finalizerThread = runtime.Threads.Single(t => t.IsFinalizer);\n",
    "Console.WriteLine(finalizerThread.OSThreadId);\n",
    "\n",
    "foreach (var frame in await curprocess.Threads.Single(x => x.Id == finalizerThread.OSThreadId).GetStackTraceAsync())\n",
    "{\n",
    "    Console.WriteLine($\"{frame.Display}\");\n",
    "    foreach (var local in frame.Locals)\n",
    "    {\n",
    "        Console.WriteLine($\"  {local.Type} {local.Name} = {local.Value}\");\n",
    "    }\n",
    "    foreach (var param in frame.Parameters)\n",
    "    {\n",
    "        Console.WriteLine($\"  {param.Type} {param.Name} = {param.Value}\");\n",
    "    }\n",
    "}"
   ]
  },
  {
   "cell_type": "markdown",
   "metadata": {},
   "source": []
  },
  {
   "cell_type": "markdown",
   "metadata": {},
   "source": [
    "# Using SOS\n",
    "\n",
    "Now that we have SOS and ClrMD loaded, we can run any debugger commands.  For example, let's take a look at what our virtual address space looks like with the managed aware `!maddress`:"
   ]
  },
  {
   "cell_type": "code",
   "execution_count": 4,
   "metadata": {
    "dotnet_interactive": {
     "language": "windbg"
    },
    "polyglot_notebook": {
     "kernelName": "windbg"
    },
    "vscode": {
     "languageId": "polyglot-notebook"
    }
   },
   "outputs": [
    {
     "name": "stdout",
     "output_type": "stream",
     "text": [
      "0:000> !maddress -stat\n",
      " +------------------------------------------------------------------------------------+ \n",
      " | Memory Type                       |          Count |         Size |   Size (bytes) | \n",
      " +------------------------------------------------------------------------------------+ \n",
      " | Image                             |         16,364 |       1.69gb |  1,813,696,512 | \n",
      " | GCHeap                            |              4 |     349.20mb |    366,166,016 | \n",
      " | MAPPED_READONLY                   |            256 |      89.32mb |     93,663,232 | \n",
      " | Heap                              |            106 |      74.98mb |     78,626,816 | \n",
      " | Other                             |            435 |      72.27mb |     75,780,096 | \n",
      " | PAGE_READWRITE                    |            111 |      69.50mb |     72,876,032 | \n",
      " | PAGE_READWRITE, PAGE_WRITECOMBINE |             14 |      28.60mb |     29,990,912 | \n",
      " | HighFrequencyHeap                 |            182 |      11.76mb |     12,333,056 | \n",
      " | LowFrequencyHeap                  |            140 |       9.46mb |      9,920,512 | \n",
      " | Stack                             |            155 |       5.60mb |      5,873,664 | \n",
      " | LoaderCodeHeap                    |             13 |       5.16mb |      5,414,912 | \n",
      " | ResolveHeap                       |              7 |       1.80mb |      1,892,352 | \n",
      " | DispatchHeap                      |              5 |     916.00kb |        937,984 | \n",
      " | HostCodeHeap                      |              8 |     780.00kb |        798,720 | \n",
      " | StubHeap                          |             12 |     664.00kb |        679,936 | \n",
      " | CacheEntryHeap                    |             11 |     628.00kb |        643,072 | \n",
      " | Teb                               |             76 |     608.00kb |        622,592 | \n",
      " | MAPPED_READWRITE                  |             13 |     368.00kb |        376,832 | \n",
      " | MAPPED_WRITECOPY                  |              1 |     288.00kb |        294,912 | \n",
      " | LookupHeap                        |              6 |     280.00kb |        286,720 | \n",
      " | IndirectionCellHeap               |              4 |     168.00kb |        172,032 | \n",
      " | PAGE_EXECUTE_READ                 |              5 |      80.00kb |         81,920 | \n",
      " | PAGE_EXECUTE_READWRITE            |             10 |      72.00kb |         73,728 | \n",
      " | PAGE_READONLY                     |              2 |      48.00kb |         49,152 | \n",
      " | Peb                               |              1 |       4.00kb |          4,096 | \n",
      " +------------------------------------------------------------------------------------+ \n",
      " | [TOTAL]                           |         17,941 |       2.39gb |  2,571,255,808 | \n",
      " +------------------------------------------------------------------------------------+ \n"
     ]
    },
    {
     "name": "stderr",
     "output_type": "stream",
     "text": [
      "Enumerating and tagging the entire address space and caching the result...\r\n",
      "Subsequent runs of this command should be faster.\r\n"
     ]
    }
   ],
   "source": [
    "!maddress -stat\n",
    "\n",
    "!dumpheap -type System.Net.HttpWebRequest"
   ]
  },
  {
   "cell_type": "markdown",
   "metadata": {},
   "source": [
    "# DbgEng object model\n",
    "\n",
    "DbgEng has an object model, which is accessed through the `dx` command.\n",
    "\n",
    "The important thing to realize is that we can project this object model back into C# code."
   ]
  },
  {
   "cell_type": "code",
   "execution_count": 19,
   "metadata": {
    "dotnet_interactive": {
     "language": "windbg"
    },
    "polyglot_notebook": {
     "kernelName": "windbg"
    },
    "vscode": {
     "languageId": "polyglot-notebook"
    }
   },
   "outputs": [
    {
     "name": "stdout",
     "output_type": "stream",
     "text": [
      "0:000> dx @$curprocess.Threads[0x5178].Stack.Frames\n",
      "@$curprocess.Threads[0x5178].Stack.Frames\n",
      "    [0x0]            : win32u!ZwUserMsgWaitForMultipleObjectsEx + 0x14\n",
      "    [0x1]            : VsLog!VSResponsiveness::Detours::DetourMsgWaitForMultipleObjectsEx + 0x6e\n",
      "    [0x2]            : msenv!MainMessageLoop::BlockingWait + 0x27\n",
      "    [0x3]            : msenv!CMsoCMHandler::EnvironmentMsgLoop + 0x209\n",
      "    [0x4]            : msenv!CMsoCMHandler::FPushMessageLoop + 0x73\n",
      "    [0x5]            : msenv!SCM::FPushMessageLoop + 0x105\n",
      "    [0x6]            : msenv!SCM_MsoCompMgr::FPushMessageLoop + 0x3f\n",
      "    [0x7]            : msenv!CMsoComponent::PushMsgLoop + 0x3d\n",
      "    [0x8]            : msenv!VStudioMainLogged + 0x881\n",
      "    [0x9]            : msenv!VStudioMain + 0xdc\n",
      "    [0xa]            : devenv!util_CallVsMain + 0x5c\n",
      "    [0xb]            : devenv!CDevEnvAppId::Run + 0x1e03\n",
      "    [0xc]            : devenv!WinMain + 0xd0\n",
      "    [0xd]            : devenv!invoke_main + 0x21\n",
      "    [0xe]            : devenv!__scrt_common_main_seh + 0x106\n",
      "    [0xf]            : kernel32!BaseThreadInitThunk + 0x1d\n",
      "    [0x10]           : ntdll!RtlUserThreadStart + 0x28\n"
     ]
    }
   ],
   "source": [
    "dx @$curprocess.Threads[0x5178].Stack.Frames\n"
   ]
  },
  {
   "cell_type": "markdown",
   "metadata": {},
   "source": [
    "# Using @$currprocess in C#\n",
    "\n",
    "Not yet implemented, but projecting these values back into C# is straight forward to implement.  To use it, simply use the variable name as you would expect.  Enumerating `@$curprocess.Threads` would look something like this:"
   ]
  },
  {
   "cell_type": "code",
   "execution_count": 5,
   "metadata": {
    "dotnet_interactive": {
     "language": "csharp"
    },
    "polyglot_notebook": {
     "kernelName": "csharp"
    },
    "vscode": {
     "languageId": "polyglot-notebook"
    }
   },
   "outputs": [
    {
     "ename": "Error",
     "evalue": "(1,40): error CS0103: The name 'currprocess' does not exist in the current context\r\n(1,22): error CS0246: The type or namespace name 'Thread' could not be found (are you missing a using directive or an assembly reference?)\r\n(8,28): error CS0103: The name 'currprocess' does not exist in the current context",
     "output_type": "error",
     "traceback": [
      "(1,40): error CS0103: The name 'currprocess' does not exist in the current context\r\n",
      "(1,22): error CS0246: The type or namespace name 'Thread' could not be found (are you missing a using directive or an assembly reference?)\r\n",
      "(8,28): error CS0103: The name 'currprocess' does not exist in the current context"
     ]
    }
   ],
   "source": [
    "foreach ((uint osid, Thread thread) in currprocess.Threads)\n",
    "{\n",
    "   // Do something\n",
    "}\n",
    "\n",
    "bool isFinalizerWaiting = false;\n",
    "uint finalizerThread = runtime.Threads.FirstOrDefault(t => t.IsFinalizer)?.OSThreadId ?? 0;\n",
    "foreach (var stackFrame in currprocess.Threads[finalizerThread].Stack.Frames)\n",
    "{\n",
    "    if (stackFrame == \"coreclr!WaitForFinalizerEvent\")\n",
    "    {\n",
    "        isFinalizerWaiting = true;\n",
    "        break;\n",
    "    }\n",
    "}"
   ]
  },
  {
   "cell_type": "markdown",
   "metadata": {},
   "source": [
    "# Using C# variables in WinDbg\n",
    "\n",
    "Though the uses will be more limited, we can also project C# variables back into WinDbg.  I've arbitrarily chosen `$` to distinguish between real windbg pseudo variables `@$` but this is modifyable."
   ]
  },
  {
   "cell_type": "code",
   "execution_count": null,
   "metadata": {
    "dotnet_interactive": {
     "language": "windbg"
    },
    "polyglot_notebook": {
     "kernelName": "windbg"
    },
    "vscode": {
     "languageId": "polyglot-notebook"
    }
   },
   "outputs": [],
   "source": [
    "* Swap to the finalizer thread with the '~~[osid]s' syntax\n",
    "\n",
    "~~[$finalizerThread]s\n",
    "kn\n"
   ]
  },
  {
   "cell_type": "markdown",
   "metadata": {},
   "source": [
    "# Building interactive code\n",
    "\n",
    "Note that notebooks aren't fully static either.  You can write code which adds code to cells.  While the example below is contrived, imagine the start of a notebook essentially points you at next steps and generates WinDbg commands that would be useful to run."
   ]
  },
  {
   "cell_type": "code",
   "execution_count": 20,
   "metadata": {
    "dotnet_interactive": {
     "language": "csharp"
    },
    "polyglot_notebook": {
     "kernelName": "csharp"
    },
    "vscode": {
     "languageId": "polyglot-notebook"
    }
   },
   "outputs": [],
   "source": [
    "using Microsoft.DotNet.Interactive;\n",
    "using Microsoft.DotNet.Interactive.Commands;\n",
    "\n",
    "var command = new SendEditableCode(\n",
    "    \"windbg\", \n",
    "    \"kn\\n!clrthreads\");\n",
    "\n",
    "var input = await Kernel.Root.SendAsync(command);\n"
   ]
  },
  {
   "cell_type": "code",
   "execution_count": null,
   "metadata": {
    "dotnet_interactive": {
     "language": "windbg"
    },
    "polyglot_notebook": {
     "kernelName": "windbg"
    },
    "vscode": {
     "languageId": "polyglot-notebook"
    }
   },
   "outputs": [],
   "source": [
    "kn\n",
    "!clrthreads"
   ]
  }
 ],
 "metadata": {
  "kernelspec": {
   "display_name": ".NET (C#)",
   "language": "C#",
   "name": ".net-csharp"
  },
  "language_info": {
   "name": "python"
  },
  "polyglot_notebook": {
   "kernelInfo": {
    "defaultKernelName": "csharp",
    "items": [
     {
      "aliases": [],
      "name": "csharp"
     },
     {
      "aliases": [],
      "name": "windbg"
     }
    ]
   }
  }
 },
 "nbformat": 4,
 "nbformat_minor": 2
}
