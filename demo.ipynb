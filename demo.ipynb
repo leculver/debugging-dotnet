{
 "cells": [
  {
   "cell_type": "markdown",
   "metadata": {},
   "source": []
  },
  {
   "cell_type": "code",
   "execution_count": 1,
   "metadata": {
    "dotnet_interactive": {
     "language": "csharp"
    },
    "polyglot_notebook": {
     "kernelName": "csharp"
    },
    "vscode": {
     "languageId": "polyglot-notebook"
    }
   },
   "outputs": [],
   "source": [
    "#r \".\\WinDbgKernel\\bin\\Debug\\net8.0-windows10.0.17763.0\\publish\\WinDbgKernel.dll\"\n",
    "#!import \".\\WinDbgKernel\\extension.dib\""
   ]
  },
  {
   "cell_type": "code",
   "execution_count": 2,
   "metadata": {
    "dotnet_interactive": {
     "language": "windbg"
    },
    "polyglot_notebook": {
     "kernelName": "windbg"
    },
    "vscode": {
     "languageId": "polyglot-notebook"
    }
   },
   "outputs": [
    {
     "name": "stdout",
     "output_type": "stream",
     "text": [
      "Dump file 'd:\\work\\crash.dmp' loaded successfully.\n",
      "0:000> .chain\n",
      "Extension DLL search Path:\n",
      "    d:\\amd64\\WINXP;d:\\amd64\\winext;d:\\amd64\\winext\\arcade;d:\\amd64\\pri;d:\\amd64;C:\\Users\\leculver\\AppData\\Local\\Dbg\\EngineExtensions;d:\\amd64;C:\\windows\\system32;C:\\windows;C:\\windows\\System32\\Wbem;C:\\windows\\System32\\WindowsPowerShell\\v1.0\\;C:\\windows\\System32\\OpenSSH\\;C:\\Program Files\\Microsoft SQL Server\\150\\Tools\\Binn\\;C:\\Program Files\\CMake\\bin;C:\\WINDOWS\\system32;C:\\WINDOWS;C:\\WINDOWS\\System32\\Wbem;C:\\WINDOWS\\System32\\WindowsPowerShell\\v1.0\\;C:\\WINDOWS\\System32\\OpenSSH\\;C:\\Program Files\\dotnet\\;C:\\Program Files\\Git\\cmd;C:\\Users\\leculver\\AppData\\Local\\Programs\\Python\\Python311\\Scripts\\;C:\\Users\\leculver\\AppData\\Local\\Programs\\Python\\Python311\\;C:\\Users\\leculver\\AppData\\Local\\Microsoft\\WindowsApps;C:\\Users\\leculver\\AppData\\Local\\Programs\\Microsoft VS Code\\bin;C:\\ProgramData\\leculver\\GitHubDesktop\\bin;D:\\tools;C:\\Users\\leculver\\.dotnet\\tools\n",
      "Extension DLL chain:\n",
      "    d:\\my\\sym\\SO\\SOS_AMD64_AMD64_4.8.9181.00.dll\\64B854789a4000\\SOS_AMD64_AMD64_4.8.9181.00.dll: image 4.8.9181.0, API 1.0.0, built Wed Jul 19 14:15:29 2023\n",
      "        [path: d:\\my\\sym\\SO\\SOS_AMD64_AMD64_4.8.9181.00.dll\\64B854789a4000\\SOS_AMD64_AMD64_4.8.9181.00.dll]\n",
      "    CLRComposition: image 10.0.27596.1000, API 0.0.0, \n",
      "        [path: d:\\amd64\\winext\\CLRComposition.dll]\n",
      "    MachOBinComposition: image 10.0.27596.1000, API 0.0.0, \n",
      "        [path: d:\\amd64\\winext\\MachOBinComposition.dll]\n",
      "    ELFBinComposition: image 10.0.27596.1000, API 0.0.0, \n",
      "        [path: d:\\amd64\\winext\\ELFBinComposition.dll]\n",
      "    dbghelp: image 10.0.27596.1000, API 10.0.6, \n",
      "        [path: d:\\amd64\\dbghelp.dll]\n",
      "    exts: image 10.0.27596.1000, API 1.0.0, \n",
      "        [path: d:\\amd64\\WINXP\\exts.dll]\n",
      "    uext: image 10.0.27596.1000, API 1.0.0, \n",
      "        [path: d:\\amd64\\winext\\uext.dll]\n",
      "    ntsdexts: image 10.0.27596.1000, API 1.0.0, \n",
      "        [path: d:\\amd64\\WINXP\\ntsdexts.dll]\n",
      "0:000> .unload\n",
      "Unloading d:\\my\\sym\\SO\\SOS_AMD64_AMD64_4.8.9181.00.dll\\64B854789a4000\\SOS_AMD64_AMD64_4.8.9181.00.dll extension DLL\n",
      "0:000> .load C:\\Users\\leculver\\.dotnet\\sos\\sos.dll\n",
      "0:000> .lastevent\n",
      "Last event: 7298.5178: Break instruction exception - code 80000003 (first/second chance not available)\n",
      "  debugger time: Thu Jun 27 12:58:33.468 2024 (UTC - 7:00)\n"
     ]
    }
   ],
   "source": [
    "* Comments in WinDbg start with an asterisk\n",
    "\n",
    "#!verboseSymbols false\n",
    "#!dbgengPath d:\\amd64\n",
    "#!sympath SRV*d:\\symbols*http://symweb.corp.microsoft.com\n",
    "#!loadDump \"d:\\work\\crash.dmp\"\n",
    "\n",
    ".unload\n",
    ".load C:\\Users\\leculver\\.dotnet\\sos\\sos.dll\n",
    ".lastevent"
   ]
  },
  {
   "cell_type": "code",
   "execution_count": 3,
   "metadata": {
    "dotnet_interactive": {
     "language": "windbg"
    },
    "polyglot_notebook": {
     "kernelName": "windbg"
    },
    "vscode": {
     "languageId": "polyglot-notebook"
    }
   },
   "outputs": [
    {
     "name": "stdout",
     "output_type": "stream",
     "text": [
      "0:000> !maddress -stat\n",
      " +------------------------------------------------------------------------------------+ \n",
      " | Memory Type                       |          Count |         Size |   Size (bytes) | \n",
      " +------------------------------------------------------------------------------------+ \n",
      " | Image                             |         16,364 |       1.69gb |  1,813,696,512 | \n",
      " | GCHeap                            |              4 |     349.20mb |    366,166,016 | \n",
      " | MAPPED_READONLY                   |            256 |      89.32mb |     93,663,232 | \n",
      " | Heap                              |            106 |      74.98mb |     78,626,816 | \n",
      " | Other                             |            435 |      72.27mb |     75,780,096 | \n",
      " | PAGE_READWRITE                    |            111 |      69.50mb |     72,876,032 | \n",
      " | PAGE_READWRITE, PAGE_WRITECOMBINE |             14 |      28.60mb |     29,990,912 | \n",
      " | HighFrequencyHeap                 |            182 |      11.76mb |     12,333,056 | \n",
      " | LowFrequencyHeap                  |            140 |       9.46mb |      9,920,512 | \n",
      " | Stack                             |            155 |       5.60mb |      5,873,664 | \n",
      " | LoaderCodeHeap                    |             13 |       5.16mb |      5,414,912 | \n",
      " | ResolveHeap                       |              7 |       1.80mb |      1,892,352 | \n",
      " | DispatchHeap                      |              5 |     916.00kb |        937,984 | \n",
      " | HostCodeHeap                      |              8 |     780.00kb |        798,720 | \n",
      " | StubHeap                          |             12 |     664.00kb |        679,936 | \n",
      " | CacheEntryHeap                    |             11 |     628.00kb |        643,072 | \n",
      " | Teb                               |             76 |     608.00kb |        622,592 | \n",
      " | MAPPED_READWRITE                  |             13 |     368.00kb |        376,832 | \n",
      " | MAPPED_WRITECOPY                  |              1 |     288.00kb |        294,912 | \n",
      " | LookupHeap                        |              6 |     280.00kb |        286,720 | \n",
      " | IndirectionCellHeap               |              4 |     168.00kb |        172,032 | \n",
      " | PAGE_EXECUTE_READ                 |              5 |      80.00kb |         81,920 | \n",
      " | PAGE_EXECUTE_READWRITE            |             10 |      72.00kb |         73,728 | \n",
      " | PAGE_READONLY                     |              2 |      48.00kb |         49,152 | \n",
      " | Peb                               |              1 |       4.00kb |          4,096 | \n",
      " +------------------------------------------------------------------------------------+ \n",
      " | [TOTAL]                           |         17,941 |       2.39gb |  2,571,255,808 | \n",
      " +------------------------------------------------------------------------------------+ \n"
     ]
    },
    {
     "name": "stderr",
     "output_type": "stream",
     "text": [
      "Enumerating and tagging the entire address space and caching the result...\r\n",
      "Subsequent runs of this command should be faster.\r\n"
     ]
    },
    {
     "name": "stdout",
     "output_type": "stream",
     "text": [
      "0:000> !fq -allReady -stat\n",
      "Calculating live objects, this may take a while...\n",
      "\n",
      "Calculating live objects complete: 2,047,706 objects from 2,113 roots\n",
      "SyncBlocks to be cleaned up: 0\n",
      "Free-Threaded Interfaces to be released: 0\n",
      "MTA Interfaces to be released: 0\n",
      "STA Interfaces to be released: 0\n",
      "----------------------------------\n",
      "\n",
      "Heap 0\n",
      "generation 0 has 31,182 objects (2338f950ee8->2338f98dd58)\n",
      "generation 1 has 8,545 objects (2338f9403e0->2338f950ee8)\n",
      "generation 2 has 32,392 objects (2338f900fa0->2338f9403e0)\n",
      "Ready for finalization 0 objects (2338f98dd58->2338f98dd58)\n",
      "------------------------------\n",
      "Heap 1\n",
      "generation 0 has 23,922 objects (2338f846680->2338f875210)\n",
      "generation 1 has 12,265 objects (2338f82e738->2338f846680)\n",
      "generation 2 has 20,761 objects (2338f805e70->2338f82e738)\n",
      "Ready for finalization 0 objects (2338f875210->2338f875210)\n",
      "------------------------------\n",
      "Statistics for all finalizable objects that are no longer rooted:\n",
      "Statistics:\n",
      "          MT  Count TotalSize Class Name\n",
      "7ffa9335a028      1        24 System.WeakReference<System.Windows.IInputElement>\n",
      "7ff9d99da248      1        24 System.WeakReference<Microsoft.CodeAnalysis.CSharp.BinderFactory>\n",
      "7ff9ed29dde0      1        24 System.WeakReference<Microsoft.CodeAnalysis.SemanticModel>\n",
      "7ffab70cdb20      1        32 System.Threading.Gen2GcCallback\n",
      "7ffa5a40c558      1        32 System.Threading.ThreadLocal<System.Collections.Concurrent.ConcurrentBag<Microsoft.VisualStudio.ExtensionManager.IInstalledExtension>+ThreadLocalList>+FinalizationHelper\n",
      "7ffa9435ae78      1        32 MS.Internal.PresentationCore.GCNotificationToken\n",
      "7ffa91ced7f0      1        32 System.Xaml.GCNotificationToken\n",
      "7ffa9455fed0      1        32 MS.Internal.WindowsBase.GCNotificationToken\n",
      "7ffa94357f48      1        32 MS.Internal.WindowsRuntime.Windows.UI.ViewManagement.InputPane\n",
      "7ffabe0cb7e8      1        32 System.Net.SafeFreeCertContext\n",
      "7ffabe0cc230      1        32 System.Net.SafeFreeCertChain\n",
      "7ffa425f9098      1        32 System.Threading.ThreadLocal<System.Collections.Concurrent.ConcurrentBag<Microsoft.VisualStudio.Telemetry.SessionChannel.ISessionChannel>+ThreadLocalList>+FinalizationHelper\n",
      "7ffa936f7c30      1        32 System.Windows.Interop.HwndSource+WeakEventDispatcherShutdown\n",
      "7ffabe0bf6e0      1        32 Microsoft.Win32.SafeHandles.SafeThreadHandle\n",
      "7ffabe0c6200      1        32 System.Net.SafeInternetHandle\n",
      "7ffa93713310      1        32 MS.Internal.Text.TextInterface.Generics.NativeIUnknownWrapper<MS::Internal::Text::TextInterface::Native::IDWriteLocalizedStrings>\n",
      "7ffabe0774a0      1        40 System.ComponentModel.AsyncOperation\n",
      "7ffa936f7088      1        40 System.Windows.Interop.HwndSource+WeakEventPreprocessMessage\n",
      "7ffab70e4110      1        40 System.Threading.RegisteredWaitHandleSafe\n",
      "7ffa1b846a30      1        40 Microsoft.VisualStudio.PlatformUI.CommandBars.DropDownItemDataSource\n",
      "7ffa93711900      2        48 System.Windows.Media.Animation.Clock+SubtreeFinalizer\n",
      "7ffa949b0110      2        48 MS.Internal.CleanupHelper+GCDetector\n",
      "7ff9fb172590      2        48 System.WeakReference<Microsoft.VisualStudio.Text.Implementation.BaseBuffer>\n",
      "7ffa2040c3b0      2        48 System.WeakReference<Microsoft.VisualStudio.Settings.SettingsListSynchronizer>\n",
      "7ffa268e5ec0      1        48 Microsoft.Internal.VisualStudio.Shell.DataStreamFromComStream\n",
      "7ffa268d8028      1        64 Microsoft.VisualStudio.Shell.SingleTaskIdleManager\n",
      "7ffa9370b5e8      2        64 MS.Internal.Text.TextInterface.Generics.NativeIUnknownWrapper<MS::Internal::Text::TextInterface::Native::IDWriteTextAnalyzer>\n",
      "7ffa13dc62b8      1        64 Microsoft.VisualStudio.Setup.Services.Telemetry\n",
      "7ffa268a6218      1        64 Microsoft.Internal.VisualStudio.PlatformUI.DataSource\n",
      "7ffabd1ea568      2        64 Microsoft.Win32.SafeHandles.SafeCspHandle\n",
      "7ffa945737b0      1        72 MS.Win32.HwndWrapper\n",
      "7ffa265f8e98      1        72 Microsoft.VisualStudio.PlatformUI.Shell.Controls.AutoHideWindowManager+MouseVirtualCaptureObserver\n",
      "7ff9f0aac880      2        80 System.Threading.ThreadLocal<System.Collections.Concurrent.ConcurrentBag<Microsoft.Build.BackEnd.NodeInfo>+ThreadLocalList>\n",
      "7ffa268b6788      2        80 Microsoft.Internal.VisualStudio.PlatformUI.Suspender+SuspendScope\n",
      "7ffa19da4080      2        80 Microsoft.VisualStudio.Platform.WindowManagement.Navigation.BackForwardNavigationService+PreventAddNavigationItemsScope\n",
      "7ffabe0bdf58      2        80 System.Net.SafeUnlockUrlCacheEntryFile\n",
      "7ffabd1ea6f8      2        80 Microsoft.Win32.SafeHandles.SafeCapiHashHandle\n",
      "7ff9ddf3a958      2        96 System.Runtime.CompilerServices.ConditionalWeakTable<Microsoft.CodeAnalysis.Project, Microsoft.CodeAnalysis.Diagnostics.CompilationWithAnalyzers>\n",
      "7ff9f19e9fa8      3        96 System.Threading.ThreadLocal<System.Collections.Concurrent.ConcurrentBag<System.Collections.Generic.Stack<System.Collections.Immutable.ImmutableSortedSet<Microsoft.VisualStudio.ProjectSystem.Designers.UnattachedProjectTreeNode>+Enumerator>>+ThreadLocalList>+FinalizationHelper\n",
      "7ffa268b1c40      3        96 Microsoft.VisualStudio.PlatformUI.SafeIUnknown\n",
      "7ffabeabcf80      2        96 System.IO.Compression.InflaterZlib\n",
      "7ffa9456c7a0      3        96 MS.Utility.DpiAwarenessContextHandle\n",
      "7ffabe0b75f8      2        96 System.IO.Compression.DeflaterZLib\n",
      "7ffa1b7540d8      3       120 Microsoft.VisualStudio.PlatformUI.CommandBars.FlagsDataSource\n",
      "7ffabe0b1d98      4       128 System.Gen2GcCallback\n",
      "7ff9feabdb58      4       128 Microsoft.TeamFoundation.GitApi.Internal.Win32.SafeProcessHandle\n",
      "7ff9feabdc10      4       128 Microsoft.TeamFoundation.GitApi.Internal.Win32.SafeJobObjectHandle\n",
      "7ffa268da4a0      4       128 Microsoft.VisualStudio.PlatformUI.LayoutSynchronizer+LayoutSynchronizationScope\n",
      "7ffabe0af6b8      4       128 Microsoft.Win32.SafeHandles.SafeX509ChainHandle\n",
      "7ffabe0cbea8      4       128 System.Security.Cryptography.SafeLocalAllocHandle\n",
      "7ffa93717990      4       128 System.Windows.Media.Imaging.BitmapSource+WeakBitmapSourceEventSink\n",
      "7ffa933c0db8      4       128 System.Windows.ResourceReferenceExpression+ResourceReferenceExpressionWeakContainer\n",
      "7ffa1b6d6af0      3       144 Microsoft.VisualStudio.PlatformUI.CommandBars.ToolBarDataSource\n",
      "7ffa203fb578      2       144 Microsoft.VisualStudio.Settings.Internal.XmlIndexedStorage\n",
      "7ffabe0c95b0      1       152 System.Net.Sockets.ConnectOverlappedAsyncResult\n",
      "7ffa59b60ce8      5       160 System.Threading.ThreadLocal<System.Security.Cryptography.HashAlgorithm>+FinalizationHelper\n",
      "7ffabe0caea0      5       160 System.Net.SafeFreeContextBuffer_SECURITY\n",
      "7ffabe0cbab8      5       160 System.Security.Cryptography.SafeCertStoreHandle\n",
      "7ffabe0c5f40      4       160 System.Net.SafeRegistryHandle\n",
      "7ff9ed29bf80      7       168 System.WeakReference<Microsoft.CodeAnalysis.SolutionCompilationState>\n",
      "7ffa1b715378      1       168 Microsoft.VisualStudio.PlatformUI.Packages.FileChange.DefaultFileSystemWatcher\n",
      "7ffabd1d7ab0      6       192 Microsoft.Win32.SafeHandles.SafeMemoryMappedFileHandle\n",
      "7ffabe0b76a8      4       192 System.IO.Compression.ZLibNative+ZLibStreamHandle\n",
      "7ff9ed292138      9       216 System.WeakReference<Microsoft.CodeAnalysis.IAssemblySymbol>\n",
      "7ff9ed291550      9       216 System.WeakReference<Microsoft.CodeAnalysis.ITypeSymbol>\n",
      "7ff9dc8f55b0      9       216 System.WeakReference<Microsoft.VisualStudio.Text.Formatting.ITextViewLine>\n",
      "7ffab70d5600      7       224 System.Security.Cryptography.X509Certificates.SafeCertContextHandle\n",
      "7ffa91ce5860      7       224 System.Xaml.WeakRefKey\n",
      "7ff9d2d5ec58      6       240 System.Reflection.Internal.MemoryMappedFileBlock+DisposableData\n",
      "7ffa203f8198      2       240 Microsoft.VisualStudio.Utilities.LogHub.WriteCountedFileStream\n",
      "7ffa9456acd8     11       264 System.Windows.ModifiedValue+BaseValueWeakReference\n",
      "7ffa9435ae08      9       288 MS.Internal.PresentationCore.WeakRefKey\n",
      "7ffabe0be318      2       304 Microsoft.Win32.WinInetCache+ReadStream\n",
      "7ffa1b6e30a0     10       320 System.Threading.ThreadLocal<System.Collections.Concurrent.ConcurrentBag<Microsoft.VisualStudio.Services.LogHub.RegisteredLog>+ThreadLocalList>+FinalizationHelper\n",
      "7ffa5a1f3b10     10       320 System.Threading.ThreadLocal<System.Collections.Concurrent.ConcurrentBag<System.Diagnostics.Stopwatch>+ThreadLocalList>+FinalizationHelper\n",
      "7ffa5a1f9578     10       320 System.Threading.ThreadLocal<System.Collections.Concurrent.ConcurrentBag<System.Byte[]>+ThreadLocalList>+FinalizationHelper\n",
      "7ffabd1d7790      8       320 Microsoft.Win32.SafeHandles.SafeMemoryMappedViewHandle\n",
      "7ffa1b7c9760      4       320 Microsoft.VisualStudio.Services.ToastNotifications.Service.UserNotificationToastManager\n",
      "7ffabe0aed18     11       352 System.Threading.ThreadLocal<System.Collections.Generic.Dictionary<System.Int32, System.Collections.Generic.Stack<System.Int32[]>>>+FinalizationHelper\n",
      "7ffa9456c630      5       360 MS.Win32.MessageOnlyHwndWrapper\n",
      "7ffa59ac6340     13       416 System.Threading.ThreadLocal<System.Collections.Concurrent.ConcurrentBag<System.Diagnostics.TraceSource>+ThreadLocalList>+FinalizationHelper\n",
      "7ffa5a2f4b40     13       416 System.Threading.ThreadLocal<System.Collections.Generic.Dictionary<System.Int32, System.Collections.Generic.Stack<System.Object[]>>>+FinalizationHelper\n",
      "7ffa93705240     13       416 MS.Internal.Text.TextInterface.Generics.NativeIUnknownWrapper<MS::Internal::Text::TextInterface::Native::IDWriteFontList>\n",
      "7ffa13dc8b90     14       448 Microsoft.VisualStudio.Setup.Services.AccountProfileService\n",
      "7ffa93705ad0     14       448 MS.Internal.Text.TextInterface.Generics.NativeIUnknownWrapper<MS::Internal::Text::TextInterface::Native::IDWriteFontFile>\n",
      "7ffabe0bf0c8      3       456 Microsoft.Win32.WinInetCache+WriteStream\n",
      "7ffabe0ae2b0     15       480 System.Threading.ThreadLocal<System.Collections.Generic.Dictionary<System.Int32, System.Collections.Generic.Stack<System.Type[]>>>+FinalizationHelper\n",
      "7ffabe05e238     15       480 Microsoft.Win32.SafeHandles.SafeProcessHandle\n",
      "7ffabe0cb878     15       480 System.Security.Cryptography.SafeCertContextHandle\n",
      "7ffa466ba0b8     18       576 System.Threading.ThreadLocal<Microsoft.VisualStudio.Threading.JoinableTask>+FinalizationHelper\n",
      "7ff9e89d4030     24       576 System.WeakReference<Microsoft.CodeAnalysis.SyntaxNode>\n",
      "7ffabe0c45e0     23       736 System.Net.SafeCloseSocket+InnerSafeCloseSocket\n",
      "7ffa13dc8450      8       768 Microsoft.VisualStudio.Setup.Cache.Query\n",
      "7ffabe063800     14       784 System.Diagnostics.ProcessModule\n",
      "7ffab70e56e0     20       800 System.Threading.ThreadPoolWorkQueueThreadLocals\n",
      "7ffabe0cc5a0     20       800 System.Net.SafeFreeContextBufferChannelBinding_SECURITY\n",
      "7ffab70eec18     17       816 System.Runtime.CompilerServices.ConditionalWeakTable<System.Object, System.Object>\n",
      "7ffabd1e7da0      8       832 System.IO.Pipes.NamedPipeClientStream\n",
      "7ff9feabc838      4       832 Microsoft.TeamFoundation.GitApi.Internal.DetachedProcess\n",
      "7ffabe0c47f8     23       920 System.Net.SafeCloseSocket\n",
      "7ffa13dc4058     24       960 Microsoft.VisualStudio.Setup.Services.ServiceProvider\n",
      "7ffa91fd7400      4       960 System.Windows.Baml2006.Baml2006SchemaContext\n",
      "7ffa1b6d0c38     35     1,120 System.Threading.ThreadLocal<System.Collections.Generic.List<Microsoft.VisualStudio.Services.VsExecutionContextTracker+PendingNotification>>+FinalizationHelper\n",
      "7ffa1b68d328     36     1,152 System.Threading.ThreadLocal<Microsoft.VisualStudio.Services.VsExecutionContextStorage>+FinalizationHelper\n",
      "7ffabe0cb3b0     22     1,232 System.Net.SafeDeleteContext_SECURITY\n",
      "7ffab70efa88     58     1,392 System.WeakReference<System.Object>\n",
      "7ffabe0c83b0     22     1,408 System.Net.Sockets.NetworkStream\n",
      "7ffabe0c4888     47     1,504 System.Net.SafeNativeOverlapped\n",
      "7ff9e8b1dff0     34     1,632 System.Runtime.CompilerServices.ConditionalWeakTable<Microsoft.CodeAnalysis.Compilation, Microsoft.CodeAnalysis.Diagnostics.CachingSemanticModelProvider+PerCompilationProvider>\n",
      "7ffa130502d8     16     1,664 Microsoft.VisualStudio.Imaging.ContrastEvaluator\n",
      "7ffa1b8456b0     36     1,728 Microsoft.VisualStudio.PlatformUI.CommandBars.ButtonDataSource\n",
      "7ffabe0cc428     22     1,760 System.Net.Security._SslStream\n",
      "7ffa13dc7720     66     2,112 Microsoft.VisualStudio.Setup.Services.WindowsRegistryKey\n",
      "7ffabe0c9700     47     2,256 System.Net.Sockets.OverlappedCache\n",
      "7ffab70ce560     72     2,304 Microsoft.Win32.SafeHandles.SafeFindHandle\n",
      "7ffa9370e0c0     97     2,328 System.Windows.Media.FactoryMaker\n",
      "7ffabd1e7260     73     2,336 Microsoft.Win32.SafeHandles.SafePipeHandle\n",
      "7ffa937057e0     87     2,784 MS.Internal.Text.TextInterface.Generics.NativeIUnknownWrapper<MS::Internal::Text::TextInterface::Native::IDWriteFontFace>\n",
      "7ffabe0ca4c8     22     2,816 System.Net.TlsStream\n",
      "7ffab7104220     91     2,912 Microsoft.Win32.SafeHandles.SafeFileHandle\n",
      "7ffabe0c3010     23     3,312 System.Net.Sockets.Socket\n",
      "7ffa1b6d6960     76     3,648 Microsoft.VisualStudio.PlatformUI.CommandBars.CommandBarRootDataSource\n",
      "7ffabe0c9dd0     20     3,680 System.Net.Sockets.OverlappedAsyncResult\n",
      "7ffa93721078     24     4,800 System.Windows.Media.Imaging.PngBitmapDecoder\n",
      "7ffab70d38e8    102     4,896 System.Threading.Tasks.TaskExceptionHolder\n",
      "7ffa687f4278     44     5,280 Microsoft.IO.Enumeration.FileSystemEnumerable<System.String>+DelegateEnumerator\n",
      "7ffabd1efd40     67     5,360 System.IO.Pipes.NamedPipeServerStream\n",
      "7ffab7114130     56     5,824 System.IO.FileStream\n",
      "7ffa9370e2d8    146     5,840 System.Windows.Media.SafeMILHandle\n",
      "7ffab7101740     72     6,912 System.Threading.Thread\n",
      "7ffa9370ee00    175     7,000 System.Windows.Media.Imaging.BitmapSourceSafeMILHandle\n",
      "7ffab83536d8    293     7,032 System.Reflection.Emit.DynamicResolver+DestroyScout\n",
      "7ffabe0c7e68     22     7,040 System.Net.Connection\n",
      "7ffab70c65f0    104     7,488 System.Reflection.Emit.DynamicResolver\n",
      "7ffab70f3e00    126     8,064 System.Threading.ReaderWriterLock\n",
      "7ffab710ff90    264     8,448 Microsoft.Win32.SafeHandles.SafeAccessTokenHandle\n",
      "7ffa9370a3c8    289     9,248 MS.Internal.Text.TextInterface.Generics.NativePointerWrapper<MS::Internal::Text::TextInterface::Native::DWRITE_SCRIPT_ANALYSIS>\n",
      "7ffa9370a4e8    289     9,248 MS.Internal.Text.TextInterface.Generics.NativeIUnknownWrapper<MS::Internal::Text::TextInterface::Native::IDWriteNumberSubstitution>\n",
      "7ffab70ea618    258    10,320 Microsoft.Win32.SafeHandles.SafeLocalAllocHandle\n",
      "7ffab70dd058    488    11,712 System.Threading.TimerHolder\n",
      "7ffa93705528    412    13,184 MS.Internal.Text.TextInterface.Generics.NativeIUnknownWrapper<MS::Internal::Text::TextInterface::Native::IDWriteFont>\n",
      "7ffa9455fe18    465    14,880 MS.Internal.WindowsBase.WeakRefKey\n",
      "7ffa9b25d3c8    205    19,680 Microsoft.VisualStudio.Diagnostics.Measurement.MeasurementBlock\n",
      "7ffab70fb2f8    674    21,568 Microsoft.Win32.SafeHandles.SafeRegistryHandle\n",
      "7ff9ed2916b8  1,239    29,736 System.WeakReference<Microsoft.CodeAnalysis.ISymbol>\n",
      "7ffa93706de0    172    41,280 MS.Internal.TextFormatting.TextMetrics+FullTextLine\n",
      "7ffab70fe248  2,301    73,632 Microsoft.Win32.SafeHandles.SafeWaitHandle\n",
      "7ff9fd3f5e68  4,215   101,160 System.WeakReference<Microsoft.VisualStudio.ProjectSystem.UnconfiguredProject>\n",
      "7ffa466b8e38  6,085   146,040 System.WeakReference<Microsoft.VisualStudio.Threading.JoinableTask>\n",
      "7ffabe062608    763   213,640 System.Diagnostics.Process\n",
      "7ffab70fd630 19,673   472,152 System.WeakReference\n",
      "Total 40,617 objects, 1,340,960 bytes\n"
     ]
    },
    {
     "name": "stderr",
     "output_type": "stream",
     "text": [
      "Caching GC roots, this may take a while.\r\n",
      "Subsequent runs of this command will be faster.\r\n"
     ]
    }
   ],
   "source": [
    "!maddress -stat\n",
    "!fq -allReady -stat\n"
   ]
  }
 ],
 "metadata": {
  "kernelspec": {
   "display_name": ".NET (C#)",
   "language": "C#",
   "name": ".net-csharp"
  },
  "language_info": {
   "name": "python"
  },
  "polyglot_notebook": {
   "kernelInfo": {
    "defaultKernelName": "csharp",
    "items": [
     {
      "aliases": [],
      "name": "csharp"
     },
     {
      "aliases": [],
      "name": "windbg"
     }
    ]
   }
  }
 },
 "nbformat": 4,
 "nbformat_minor": 2
}
