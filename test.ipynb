{
 "cells": [
  {
   "cell_type": "markdown",
   "metadata": {},
   "source": []
  },
  {
   "cell_type": "code",
   "execution_count": 1,
   "metadata": {
    "dotnet_interactive": {
     "language": "csharp"
    },
    "polyglot_notebook": {
     "kernelName": "csharp"
    },
    "vscode": {
     "languageId": "polyglot-notebook"
    }
   },
   "outputs": [
    {
     "name": "stdout",
     "output_type": "stream",
     "text": [
      "WinDbgKernel created\r\n"
     ]
    }
   ],
   "source": [
    "#r \".\\WinDbgKernel\\bin\\Debug\\net8.0-windows10.0.17763.0\\publish\\WinDbgKernel.dll\"\n",
    "using Microsoft.DotNet.Interactive;\n",
    "\n",
    "var windbg = new WinDbgKernel.WinDbgKernel();\n",
    "((CompositeKernel)Kernel.Root).Add(windbg);\n",
    "\n",
    "//System.Diagnostics.Debugger.Launch();\n"
   ]
  },
  {
   "cell_type": "code",
   "execution_count": 2,
   "metadata": {
    "dotnet_interactive": {
     "language": "windbg"
    },
    "polyglot_notebook": {
     "kernelName": "windbg"
    },
    "vscode": {
     "languageId": "polyglot-notebook"
    }
   },
   "outputs": [
    {
     "name": "stdout",
     "output_type": "stream",
     "text": [
      "Dump file 'd:\\work\\crash.dmp' loaded successfully.\n",
      "Symbol path 'srv*d:\\symbols*http://symweb.corp.microsoft.com' set successfully.\n",
      "\n",
      "Microsoft (R) Windows Debugger Version 10.0.22531.1003 AMD64\n",
      "Copyright (c) Microsoft Corporation. All rights reserved.\n",
      "\n",
      "\n",
      "Loading Dump File [d:\\work\\crash.dmp]\n",
      "User Mini Dump File with Full Memory: Only application data is available\n",
      "\n",
      "Comment: '\n",
      "*** procdump  -ma 29336 d:\\work\\crash.dmp\n",
      "*** Manual dump'\n",
      "Symbol search path is: SRV*d:\\My\\Sym*http://symweb\n",
      "Executable search path is: \n",
      "Windows 10 Version 22621 MP (20 procs) Free x64\n",
      "Product: WinNt, suite: SingleUserTS\n",
      "Edition build lab: 22621.1.amd64fre.ni_release.220506-1250\n",
      "Machine Name:\n",
      "Debug session time: Fri Jan  5 14:16:43.000 2024 (UTC - 7:00)\n",
      "System Uptime: 14 days 4:35:08.448\n",
      "Process Uptime: 0 days 0:02:17.000\n",
      "................................................................\n",
      "................................................................\n",
      "................................................................\n",
      "................................................................\n",
      "................................................................\n",
      "................................................................\n",
      "................................................................\n",
      "................................................................\n",
      "...............................................................\n",
      "Loading unloaded module list\n",
      "........................\n",
      "For analysis of this file, run <link cmd=\"!analyze -v\">!analyze -v</link>\n",
      "win32u!NtUserMsgWaitForMultipleObjectsEx+0x14:\n",
      "00007ffa`cb2aacf4 c3              ret\n",
      "\n",
      "Unable to add extension DLL: ntsdexts\n",
      "Unable to add extension DLL: uext\n",
      "Unable to add extension DLL: exts\n",
      "\n",
      "\n",
      "************* Path validation summary **************\n",
      "Response                         Time (ms)     Location\n",
      "Deferred                                       SRV*d:\\My\\Sym*http://symweb\n",
      "\n",
      "************* Path validation summary **************\n",
      "Response                         Time (ms)     Location\n",
      "Deferred                                       srv*d:\\symbols*http://symweb.corp.microsoft.com\n",
      "\n",
      "\n"
     ]
    }
   ],
   "source": [
    "#!sympath srv*d:\\symbols*http://symweb.corp.microsoft.com\n",
    "#!loadDump \"d:\\work\\crash.dmp\"\n"
   ]
  },
  {
   "cell_type": "code",
   "execution_count": 3,
   "metadata": {
    "dotnet_interactive": {
     "language": "windbg"
    },
    "polyglot_notebook": {
     "kernelName": "windbg"
    },
    "vscode": {
     "languageId": "polyglot-notebook"
    }
   },
   "outputs": [
    {
     "name": "stdout",
     "output_type": "stream",
     "text": [
      "0:000> !sym noisy\n",
      "noisy mode - symbol prompts on\n",
      "0:000> .prefer_dml 0\n",
      "DML versions of commands off by default\n",
      "0:000> k\n",
      "Child-SP          RetAddr               Call Site\n",
      "000000f1`e2afebc8 00007ffa`5eef183e     win32u!NtUserMsgWaitForMultipleObjectsEx+0x14\n",
      "000000f1`e2afebd0 00007ffa`2acef16d     VsLog+0x183e\n",
      "000000f1`e2afec10 00007ffa`2ad77443     msenv!DllMain+0x3922d\n",
      "000000f1`e2afeca0 00007ffa`2ad77751     msenv!DllGetClassObject+0x39603\n",
      "000000f1`e2afed10 00007ffa`2ad7761f     msenv!DllGetClassObject+0x39911\n",
      "000000f1`e2afeda0 00007ffa`2ad775b9     msenv!DllGetClassObject+0x397df\n",
      "000000f1`e2afedd0 00007ffa`2ad772fd     msenv!DllGetClassObject+0x39779\n",
      "000000f1`e2afee00 00007ffa`2ae6375c     msenv!DllGetClassObject+0x394bd\n",
      "000000f1`e2afef60 00007ff7`562ed594     msenv!VStudioMain+0xdc\n",
      "000000f1`e2afefb0 00007ff7`562e862f     devenv+0xd594\n",
      "000000f1`e2afefe0 00007ff7`562e30c8     devenv+0x862f\n",
      "000000f1`e2aff6e0 00007ff7`563326e2     devenv+0x30c8\n",
      "000000f1`e2aff750 00007ffa`cce7257d     devenv!SetOnAssertCallback+0x416f2\n",
      "000000f1`e2aff790 00007ffa`cdf8aa58     kernel32!BaseThreadInitThunk+0x1d\n",
      "000000f1`e2aff7c0 00000000`00000000     ntdll!RtlUserThreadStart+0x28\n",
      "Symbol requests:\n",
      "DBGHELP: win32u.pdb - dia error 0x80004005\n",
      "DBGHELP: win32u - export symbols\n",
      "DBGHELP: D:\\dbs\\el\\ddvsm\\out\\binaries\\amd64ret\\bin\\amd64\\vspkgs\\Opt\\2md32tss.kbo\\Output\\VsLog.pdb - dia error 0x80004005\n",
      "DBGHELP: VsLog - export symbols\n",
      "DBGHELP: D:\\dbs\\el\\ddvsm\\out\\binaries\\amd64ret\\bin\\amd64\\vspkgs\\Opt\\upq5zjdm.cal\\Output\\msenv.pdb - dia error 0x80004005\n",
      "DBGHELP: msenv - export symbols\n",
      "DBGHELP: D:\\dbs\\el\\ddvsm\\out\\binaries\\amd64ret\\bin\\amd64\\LowImpact\\Prerelease\\devenv_prerelease.pdb - dia error 0x80004005\n",
      "DBGHELP: devenv - export symbols\n",
      "DBGHELP: kernel32.pdb - dia error 0x80004005\n",
      "DBGHELP: kernel32 - export symbols\n",
      "DBGHELP: ntdll.pdb - dia error 0x80004005\n",
      "DBGHELP: ntdll - export symbols\n"
     ]
    }
   ],
   "source": [
    "!sym noisy\n",
    ".prefer_dml 0\n",
    "k\n",
    ".reload /f clr.dll\n"
   ]
  },
  {
   "cell_type": "code",
   "execution_count": 5,
   "metadata": {
    "vscode": {
     "languageId": "polyglot-notebook"
    }
   },
   "outputs": [],
   "source": [
    "System.Diagnostics.Debugger.Launch();"
   ]
  }
 ],
 "metadata": {
  "kernelspec": {
   "display_name": ".NET (C#)",
   "language": "C#",
   "name": ".net-csharp"
  },
  "language_info": {
   "name": "python"
  },
  "polyglot_notebook": {
   "kernelInfo": {
    "defaultKernelName": "csharp",
    "items": [
     {
      "aliases": [],
      "name": "csharp"
     },
     {
      "aliases": [],
      "name": "windbg"
     }
    ]
   }
  }
 },
 "nbformat": 4,
 "nbformat_minor": 2
}
