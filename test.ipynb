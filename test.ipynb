{
 "cells": [
  {
   "cell_type": "markdown",
   "metadata": {},
   "source": []
  },
  {
   "cell_type": "code",
   "execution_count": 1,
   "metadata": {
    "dotnet_interactive": {
     "language": "csharp"
    },
    "polyglot_notebook": {
     "kernelName": "csharp"
    },
    "vscode": {
     "languageId": "polyglot-notebook"
    }
   },
   "outputs": [
    {
     "name": "stdout",
     "output_type": "stream",
     "text": [
      "one\n",
      "two\n"
     ]
    }
   ],
   "source": [
    "#r \".\\WinDbgKernel\\bin\\Debug\\net8.0-windows10.0.17763.0\\publish\\WinDbgKernel.dll\"\n",
    "using Microsoft.DotNet.Interactive;\n",
    "\n",
    "Console.WriteLine(\"one\");\n",
    "var windbg = new WinDbgKernel.WinDbgKernel();\n",
    "((CompositeKernel)Kernel.Root).Add(windbg);\n",
    "Console.WriteLine(\"two\");\n"
   ]
  },
  {
   "cell_type": "code",
   "execution_count": 2,
   "metadata": {
    "dotnet_interactive": {
     "language": "windbg"
    },
    "polyglot_notebook": {
     "kernelName": "windbg"
    },
    "vscode": {
     "languageId": "polyglot-notebook"
    }
   },
   "outputs": [],
   "source": [
    "#!loadDump \"d:\\work\\crash.dmp\"\n"
   ]
  },
  {
   "cell_type": "code",
   "execution_count": 4,
   "metadata": {
    "dotnet_interactive": {
     "language": "windbg"
    },
    "polyglot_notebook": {
     "kernelName": "windbg"
    },
    "vscode": {
     "languageId": "polyglot-notebook"
    }
   },
   "outputs": [
    {
     "name": "stdout",
     "output_type": "stream",
     "text": [
      "CLR DLL status: No load attempts\n",
      "\n",
      "complete\n"
     ]
    }
   ],
   "source": [
    ".cordll -ve -u -l\n"
   ]
  }
 ],
 "metadata": {
  "kernelspec": {
   "display_name": ".NET (C#)",
   "language": "C#",
   "name": ".net-csharp"
  },
  "language_info": {
   "name": "python"
  },
  "polyglot_notebook": {
   "kernelInfo": {
    "defaultKernelName": "csharp",
    "items": [
     {
      "aliases": [],
      "name": "csharp"
     },
     {
      "aliases": [],
      "name": "windbg"
     }
    ]
   }
  }
 },
 "nbformat": 4,
 "nbformat_minor": 2
}
