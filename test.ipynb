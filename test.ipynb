{
 "cells": [
  {
   "cell_type": "markdown",
   "metadata": {},
   "source": []
  },
  {
   "cell_type": "code",
   "execution_count": 1,
   "metadata": {
    "dotnet_interactive": {
     "language": "csharp"
    },
    "polyglot_notebook": {
     "kernelName": "csharp"
    },
    "vscode": {
     "languageId": "polyglot-notebook"
    }
   },
   "outputs": [],
   "source": [
    "#r \".\\WinDbgKernel\\bin\\Debug\\net8.0-windows10.0.17763.0\\publish\\WinDbgKernel.dll\"\n",
    "#!import \".\\WinDbgKernel\\extension.dib\""
   ]
  },
  {
   "cell_type": "code",
   "execution_count": 2,
   "metadata": {
    "dotnet_interactive": {
     "language": "windbg"
    },
    "polyglot_notebook": {
     "kernelName": "windbg"
    },
    "vscode": {
     "languageId": "polyglot-notebook"
    }
   },
   "outputs": [
    {
     "name": "stdout",
     "output_type": "stream",
     "text": [
      "Dump file 'd:\\work\\crash.dmp' loaded successfully.\n",
      "Symbol path 'SRV*d:\\symbols*http://symweb.corp.microsoft.com' set successfully.\n"
     ]
    }
   ],
   "source": [
    "#!dbgengPath d:\\amd64\n",
    "#!sympath SRV*d:\\symbols*http://symweb.corp.microsoft.com\n",
    "#!loadDump \"d:\\work\\crash.dmp\"\n"
   ]
  },
  {
   "cell_type": "code",
   "execution_count": 3,
   "metadata": {
    "dotnet_interactive": {
     "language": "windbg"
    },
    "polyglot_notebook": {
     "kernelName": "windbg"
    },
    "vscode": {
     "languageId": "polyglot-notebook"
    }
   },
   "outputs": [
    {
     "name": "stdout",
     "output_type": "stream",
     "text": [
      "0:000> !sym noisy\n",
      "noisy mode - symbol prompts on\n",
      "0:000> .prefer_dml 0\n",
      "DML versions of commands off by default\n",
      "0:000> k\n",
      "Child-SP          RetAddr               Call Site\n",
      "000000f1`e2afebc8 00007ffa`5eef183e     win32u!ZwUserMsgWaitForMultipleObjectsEx+0x14 [onecoreuap\\windows\\core\\umode\\moderncore\\objfre\\amd64\\usrstubs.asm @ 9901]\n",
      "000000f1`e2afebd0 00007ffa`2acef16d     VsLog!VSResponsiveness::Detours::DetourMsgWaitForMultipleObjectsEx+0x6e [D:\\dbs\\el\\ddvsm\\src\\vscommon\\TestTools\\VsLog\\ResponseTime\\VSResponsiveness.cpp @ 1129]\n",
      "(Inline Function) --------`--------     msenv!MainMessageLoop::BlockingWait+0x27 [D:\\dbs\\el\\ddvsm\\src\\env\\msenv\\core\\main.cpp @ 2373]\n",
      "000000f1`e2afec10 00007ffa`2ad77443     msenv!CMsoCMHandler::EnvironmentMsgLoop+0x209 [D:\\dbs\\el\\ddvsm\\src\\env\\msenv\\core\\msocm.cpp @ 503]\n",
      "000000f1`e2afeca0 00007ffa`2ad77751     msenv!CMsoCMHandler::FPushMessageLoop+0x73 [D:\\dbs\\el\\ddvsm\\src\\env\\msenv\\core\\msocm.cpp @ 366]\n",
      "000000f1`e2afed10 00007ffa`2ad7761f     msenv!SCM::FPushMessageLoop+0x105 [D:\\dbs\\el\\ddvsm\\src\\env\\msenv\\mso\\core\\cistdmgr.cpp @ 2284]\n",
      "000000f1`e2afeda0 00007ffa`2ad775b9     msenv!SCM_MsoCompMgr::FPushMessageLoop+0x3f [D:\\dbs\\el\\ddvsm\\src\\env\\msenv\\mso\\core\\cistdmgr.cpp @ 3020]\n",
      "000000f1`e2afedd0 00007ffa`2ad772fd     msenv!CMsoComponent::PushMsgLoop+0x3d [D:\\dbs\\el\\ddvsm\\src\\env\\msenv\\core\\msocm.cpp @ 714]\n",
      "000000f1`e2afee00 00007ffa`2ae6375c     msenv!VStudioMainLogged+0x881 [D:\\dbs\\el\\ddvsm\\src\\env\\msenv\\core\\main.cpp @ 1537]\n",
      "000000f1`e2afef60 00007ff7`562ed594     msenv!VStudioMain+0xdc [D:\\dbs\\el\\ddvsm\\src\\env\\msenv\\core\\main.cpp @ 1928]\n",
      "000000f1`e2afefb0 00007ff7`562e862f     devenv!util_CallVsMain+0x5c [D:\\dbs\\el\\ddvsm\\src\\appid\\lib\\utils.cpp @ 1172]\n",
      "000000f1`e2afefe0 00007ff7`562e30c8     devenv!CDevEnvAppId::Run+0x1e03 [Q:\\src\\appid\\devenv\\stub\\devenv.cpp @ 1027]\n",
      "000000f1`e2aff6e0 00007ff7`563326e2     devenv!WinMain+0xd0 [Q:\\src\\appid\\devenv\\stub\\winmain.cpp @ 70]\n",
      "(Inline Function) --------`--------     devenv!invoke_main+0x21 [D:\\a\\_work\\1\\s\\src\\vctools\\crt\\vcstartup\\src\\startup\\exe_common.inl @ 102]\n",
      "000000f1`e2aff750 00007ffa`cce7257d     devenv!__scrt_common_main_seh+0x106 [D:\\a\\_work\\1\\s\\src\\vctools\\crt\\vcstartup\\src\\startup\\exe_common.inl @ 288]\n",
      "000000f1`e2aff790 00007ffa`cdf8aa58     kernel32!BaseThreadInitThunk+0x1d [clientcore\\base\\win32\\client\\thread.c @ 75]\n",
      "000000f1`e2aff7c0 00000000`00000000     ntdll!RtlUserThreadStart+0x28 [minkernel\\ntdll\\rtlstrt.c @ 1166]\n",
      "Symbol requests:\n",
      "SYMSRV:  BYINDEX: 0x8\n",
      "         d:\\symbols*http://symweb.corp.microsoft.com\n",
      "         VsLog.pdb\n",
      "         19A2DACFFB3044C3A0A75F299187AAF02\n",
      "SYMSRV:  PATH: d:\\symbols\\VsLog.pdb\\19A2DACFFB3044C3A0A75F299187AAF02\\VsLog.pdb\n",
      "SYMSRV:  RESULT: 0x00000000\n",
      "DBGHELP: VsLog - private symbols &amp; lines \n",
      "        d:\\symbols\\VsLog.pdb\\19A2DACFFB3044C3A0A75F299187AAF02\\VsLog.pdb\n",
      "SYMSRV:  BYINDEX: 0x9\n",
      "         d:\\symbols*http://symweb.corp.microsoft.com\n",
      "         msenv.pdb\n",
      "         C5C7F32D0D45417F8DD98427D173EA682\n",
      "SYMSRV:  PATH: d:\\symbols\\msenv.pdb\\C5C7F32D0D45417F8DD98427D173EA682\\msenv.pdb\n",
      "SYMSRV:  RESULT: 0x00000000\n",
      "DBGHELP: msenv - private symbols &amp; lines \n",
      "        d:\\symbols\\msenv.pdb\\C5C7F32D0D45417F8DD98427D173EA682\\msenv.pdb\n",
      "SYMSRV:  BYINDEX: 0xA\n",
      "         d:\\symbols*http://symweb.corp.microsoft.com\n",
      "         devenv_prerelease.pdb\n",
      "         F1BD91AA93C102EC6F3453C9F3F50EB71\n",
      "SYMSRV:  PATH: d:\\symbols\\devenv_prerelease.pdb\\F1BD91AA93C102EC6F3453C9F3F50EB71\\devenv_prerelease.pdb\n",
      "SYMSRV:  RESULT: 0x00000000\n",
      "DBGHELP: devenv - private symbols &amp; lines \n",
      "        d:\\symbols\\devenv_prerelease.pdb\\F1BD91AA93C102EC6F3453C9F3F50EB71\\devenv_prerelease.pdb\n",
      "SYMSRV:  BYINDEX: 0xB\n",
      "         d:\\symbols*http://symweb.corp.microsoft.com\n",
      "         kernel32.pdb\n",
      "         6F7660385E7D8D33ED9B5A39B03822F01\n",
      "SYMSRV:  PATH: d:\\symbols\\kernel32.pdb\\6F7660385E7D8D33ED9B5A39B03822F01\\kernel32.pdb\n",
      "SYMSRV:  RESULT: 0x00000000\n",
      "DBGHELP: kernel32 - private symbols &amp; lines \n",
      "        d:\\symbols\\kernel32.pdb\\6F7660385E7D8D33ED9B5A39B03822F01\\kernel32.pdb\n",
      "SYMSRV:  BYINDEX: 0xC\n",
      "         d:\\symbols*http://symweb.corp.microsoft.com\n",
      "         ntdll.pdb\n",
      "         58A282C24AEE7E03A8CF8CB0A782CE0C1\n",
      "SYMSRV:  PATH: d:\\symbols\\ntdll.pdb\\58A282C24AEE7E03A8CF8CB0A782CE0C1\\ntdll.pdb\n",
      "SYMSRV:  RESULT: 0x00000000\n",
      "DBGHELP: ntdll - private symbols &amp; lines \n",
      "        d:\\symbols\\ntdll.pdb\\58A282C24AEE7E03A8CF8CB0A782CE0C1\\ntdll.pdb\n",
      "0:000> .reload /f clr.dll\n",
      "Symbol requests:\n",
      "SYMSRV:  BYINDEX: 0xD\n",
      "         d:\\symbols*http://symweb.corp.microsoft.com\n",
      "         clr.pdb\n",
      "         CD3A60D2C15743E19D1B3FA75975B4AB3\n",
      "SYMSRV:  PATH: d:\\symbols\\clr.pdb\\CD3A60D2C15743E19D1B3FA75975B4AB3\\clr.pdb\n",
      "SYMSRV:  RESULT: 0x00000000\n",
      "DBGHELP: clr - private symbols &amp; lines \n",
      "        d:\\symbols\\clr.pdb\\CD3A60D2C15743E19D1B3FA75975B4AB3\\clr.pdb\n"
     ]
    }
   ],
   "source": [
    "!sym noisy\n",
    ".prefer_dml 0\n",
    "k\n",
    ".reload /f clr.dll\n"
   ]
  },
  {
   "cell_type": "code",
   "execution_count": 4,
   "metadata": {
    "dotnet_interactive": {
     "language": "windbg"
    },
    "polyglot_notebook": {
     "kernelName": "windbg"
    },
    "vscode": {
     "languageId": "polyglot-notebook"
    }
   },
   "outputs": [
    {
     "name": "stdout",
     "output_type": "stream",
     "text": [
      "0:000> .chain\n",
      "Extension DLL search Path:\n",
      "    d:\\amd64\\WINXP;d:\\amd64\\winext;d:\\amd64\\winext\\arcade;d:\\amd64\\pri;d:\\amd64;C:\\Users\\leculver\\AppData\\Local\\Dbg\\EngineExtensions;d:\\amd64;C:\\windows\\system32;C:\\windows;C:\\windows\\System32\\Wbem;C:\\windows\\System32\\WindowsPowerShell\\v1.0\\;C:\\windows\\System32\\OpenSSH\\;C:\\Program Files\\Microsoft SQL Server\\150\\Tools\\Binn\\;C:\\Program Files\\CMake\\bin;C:\\WINDOWS\\system32;C:\\WINDOWS;C:\\WINDOWS\\System32\\Wbem;C:\\WINDOWS\\System32\\WindowsPowerShell\\v1.0\\;C:\\WINDOWS\\System32\\OpenSSH\\;C:\\Program Files\\dotnet\\;C:\\Program Files\\Git\\cmd;C:\\Users\\leculver\\AppData\\Local\\Programs\\Python\\Python311\\Scripts\\;C:\\Users\\leculver\\AppData\\Local\\Programs\\Python\\Python311\\;C:\\Users\\leculver\\AppData\\Local\\Microsoft\\WindowsApps;C:\\Users\\leculver\\AppData\\Local\\Programs\\Microsoft VS Code\\bin;C:\\ProgramData\\leculver\\GitHubDesktop\\bin;D:\\tools;C:\\Users\\leculver\\.dotnet\\tools\n",
      "Extension DLL chain:\n",
      "    d:\\my\\sym\\SO\\SOS_AMD64_AMD64_4.8.9181.00.dll\\64B854789a4000\\SOS_AMD64_AMD64_4.8.9181.00.dll: image 4.8.9181.0, API 1.0.0, built Wed Jul 19 14:15:29 2023\n",
      "        [path: d:\\my\\sym\\SO\\SOS_AMD64_AMD64_4.8.9181.00.dll\\64B854789a4000\\SOS_AMD64_AMD64_4.8.9181.00.dll]\n",
      "    CLRComposition: image 10.0.27596.1000, API 0.0.0, \n",
      "        [path: d:\\amd64\\winext\\CLRComposition.dll]\n",
      "    MachOBinComposition: image 10.0.27596.1000, API 0.0.0, \n",
      "        [path: d:\\amd64\\winext\\MachOBinComposition.dll]\n",
      "    ELFBinComposition: image 10.0.27596.1000, API 0.0.0, \n",
      "        [path: d:\\amd64\\winext\\ELFBinComposition.dll]\n",
      "    dbghelp: image 10.0.27596.1000, API 10.0.6, \n",
      "        [path: d:\\amd64\\dbghelp.dll]\n",
      "    exts: image 10.0.27596.1000, API 1.0.0, \n",
      "        [path: d:\\amd64\\WINXP\\exts.dll]\n",
      "    uext: image 10.0.27596.1000, API 1.0.0, \n",
      "        [path: d:\\amd64\\winext\\uext.dll]\n",
      "    ntsdexts: image 10.0.27596.1000, API 1.0.0, \n",
      "        [path: d:\\amd64\\WINXP\\ntsdexts.dll]\n"
     ]
    }
   ],
   "source": [
    ".chain"
   ]
  }
 ],
 "metadata": {
  "kernelspec": {
   "display_name": ".NET (C#)",
   "language": "C#",
   "name": ".net-csharp"
  },
  "language_info": {
   "name": "python"
  },
  "polyglot_notebook": {
   "kernelInfo": {
    "defaultKernelName": "csharp",
    "items": [
     {
      "aliases": [],
      "name": "csharp"
     },
     {
      "aliases": [],
      "name": "windbg"
     }
    ]
   }
  }
 },
 "nbformat": 4,
 "nbformat_minor": 2
}
